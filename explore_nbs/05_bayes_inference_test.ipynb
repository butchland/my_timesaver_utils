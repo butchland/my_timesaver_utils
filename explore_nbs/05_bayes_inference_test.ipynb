{
 "cells": [
  {
   "cell_type": "code",
   "execution_count": null,
   "metadata": {},
   "outputs": [],
   "source": [
    "#default_exp bayes_inference"
   ]
  },
  {
   "cell_type": "markdown",
   "metadata": {},
   "source": [
    "# Bayes Inference \n",
    "\n",
    "> * adding a measure of uncertainty to predictions\n",
    "> * useful for detecting out of distribution (OOD) samples in your data\n",
    "> * works without an OOD sample dataset\n",
    "> * works with existing trained models\n",
    "> * tradeoff: slower inference due to sampling over distribution\n",
    "> * Behind the scenes -> uses the MonteCarlo Dropout Callback (MCDropoutCallback) \n",
    "> * Based on the article : [Bayesian deep learning with Fastai : how not to be uncertain about your uncertainty !](https://towardsdatascience.com/bayesian-deep-learning-with-fastai-how-not-to-be-uncertain-about-your-uncertainty-6a99d1aa686e)\n",
    "> * And on the [github code](https://github.com/dhuynh95/fastai_bayesian) by Daniel Huynh\n",
    "> * Updated for fastai v2"
   ]
  },
  {
   "cell_type": "code",
   "execution_count": null,
   "metadata": {},
   "outputs": [],
   "source": [
    "#hide\n",
    "#ci\n",
    "# !pip install -Uqq fastai --upgrade\n",
    "# !pip install -Uqq seaborn"
   ]
  },
  {
   "cell_type": "code",
   "execution_count": null,
   "metadata": {},
   "outputs": [],
   "source": [
    "#hide\n",
    "#local\n",
    "%reload_ext autoreload\n",
    "%autoreload 2\n",
    "%matplotlib inline"
   ]
  },
  {
   "cell_type": "code",
   "execution_count": null,
   "metadata": {},
   "outputs": [],
   "source": [
    "#export\n",
    "# from fastai.vision.all import *\n",
    "# from fastai.callback.preds import MCDropoutCallback\n",
    "# from fastai.learner import Learner\n",
    "# from fastcore.foundation import patch, L\n",
    "# from fastai.torch_core import to_np\n",
    "import warnings\n",
    "FASTAI_AVAILABLE = True\n",
    "try:\n",
    "    from fastai.callback.preds import MCDropoutCallback\n",
    "    from fastai.learner import Learner\n",
    "    from fastcore.foundation import patch, L\n",
    "    from fastai.torch_core import to_np\n",
    "\n",
    "except ImportError as e:\n",
    "    FASTAI_AVAILABLE = False\n",
    "    warnings.warn('fastai package not installed, callback simulated')"
   ]
  },
  {
   "cell_type": "code",
   "execution_count": null,
   "metadata": {},
   "outputs": [],
   "source": [
    "#export\n",
    "if not FASTAI_AVAILABLE:\n",
    "    class MCDropoutCallback:\n",
    "        pass\n",
    "    class Learner:\n",
    "        pass\n",
    "    def patch(fn, *args,**kwargs):\n",
    "        return fn\n",
    "    def L(*args,**kwargs):\n",
    "        return args[0]\n",
    "    def to_np(*args,**kwargs):\n",
    "        return args[0]"
   ]
  },
  {
   "cell_type": "code",
   "execution_count": null,
   "metadata": {},
   "outputs": [],
   "source": [
    "#hide\n",
    "#export\n",
    "from collections import Counter\n",
    "import seaborn as sns\n",
    "import torch"
   ]
  },
  {
   "cell_type": "markdown",
   "metadata": {},
   "source": [
    "#### Bayesian Metrics\n",
    "\n",
    "This is modified  from fastai_bayesian github code by Daniel Huynh \n",
    "but modified to use Pytorch tensors instead of Numpy arrays"
   ]
  },
  {
   "cell_type": "code",
   "execution_count": null,
   "metadata": {},
   "outputs": [],
   "source": [
    "#export\n",
    "class Learner:\n",
    "    pass"
   ]
  },
  {
   "cell_type": "code",
   "execution_count": null,
   "metadata": {},
   "outputs": [],
   "source": [
    "#export\n",
    "from fastai.learner import Learner\n",
    "from fastai.callback.preds import MCDropoutCallback\n",
    "from fastai.learner import Learner\n",
    "from fastcore.foundation import patch, L\n",
    "from fastai.torch_core import to_np\n",
    "\n",
    "@patch\n",
    "def hello_world(self:Learner): \n",
    "    print(\"hello, world!\")"
   ]
  }
 ],
 "metadata": {
  "kernelspec": {
   "display_name": "Python 3",
   "language": "python",
   "name": "python3"
  }
 },
 "nbformat": 4,
 "nbformat_minor": 4
}
