{
 "cells": [
  {
   "cell_type": "code",
   "execution_count": null,
   "metadata": {},
   "outputs": [
    {
     "name": "stdout",
     "output_type": "stream",
     "text": [
      "/Users/butch/devt/workspaces/python3/fastai2_2020/experiments/my_timesaver_utils\n",
      "/Users/butch/devt/workspaces/python3/fastai2_2020/experiments/my_timesaver_utils/nbs\n"
     ]
    }
   ],
   "source": [
    "#hide\n",
    "#local\n",
    "%cd ..\n",
    "from my_timesaver_utils.all import *\n",
    "%cd nbs"
   ]
  },
  {
   "cell_type": "markdown",
   "metadata": {},
   "source": [
    "# My Timesaver utilities\n",
    "> A set of simple utilities I found useful to import "
   ]
  },
  {
   "cell_type": "markdown",
   "metadata": {},
   "source": [
    "This is the current list of functions\n",
    "\n",
    "* Profiling Utilities\n",
    "    * `@profile_call(fname=None)` - a function or method decorator to record execution times\n",
    "    * `print_prof_data(fname=None)` - prints out profile data for function `fname` or all functions if `fname` is None\n",
    "    * `clear_prof_data(fname=None)` - clears out profile data for function `fname` or all functions if `fname` is None\n",
    "    * `get_prof_data(fname)` - get exec times for `fname`\n",
    "    * `start_record(fname)` - start recording time for `fname` (alternative to decorator if function cannot decorated)\n",
    "    * `end_record(fname)` - stop recording and add elapsed time for `fname` \n",
    "    * `save_prof_data(file_name)` - save profile data to `file_name`\n",
    "    * `load_prof_data(file_name)` - load profile data from `file_name`\n",
    "* Profiling Callback\n",
    "    * `MyProfileCallback` - a fastai `Callback` that provides a hierarchical view of model training time execution\n",
    "        * `Learner.to_my_profile` - method added to a fastai `Learner` if `my_timesaver_utils.profiling_callback` is imported. Call it to add a `MyProfileCallback` to the `Learner` instance.\n",
    "        * `Learner.my_profile` - `MyProfileCallback` instance attached to the fastai `Learner` object if `to_my_profile` method is called.\n",
    "        * `print_stats` - `MyProfileCallback` method to show a hierarchical view of the training lifecycle execution stats (execution counts, avg time, max time)\n",
    "        * `get_stats` - `MyProfileCallback` method to get the execution stats as a list\n",
    "        * `clear_stats` - `MyProfileCallback` method to reset the execution stats\n",
    "        * `reset` - `MyProfileCallback` attribute to set so each call to `Learner.fit` resets the execution counts before starting the training.\n",
    "* Enhanced Image Classifier Cleaner\n",
    "    * `class EnhancedImageClassifierCleaner` - a drop-in replacement for the [`fastai.vision.widgets.ImageClassifierCleaner`](https://docs.fast.ai/vision.widgets#ImageClassifierCleaner) which adds `Apply` and `Reset` buttons to allow the user to apply or revert changes to actual dataset._(In the fastai, the application of the changes is done in a separate step, making it more cumbersome to apply across a lot of categories -- doubling it since it segregates the validation and training datasets as well)_"
   ]
  },
  {
   "cell_type": "markdown",
   "metadata": {},
   "source": [
    "## Install"
   ]
  },
  {
   "cell_type": "markdown",
   "metadata": {},
   "source": [
    "`pip install git+https://github.com/butchland/my_timesaver_utils.git`"
   ]
  },
  {
   "cell_type": "code",
   "execution_count": null,
   "metadata": {},
   "outputs": [],
   "source": [
    "#hide\n",
    "from my_timesaver_utils.all import *"
   ]
  },
  {
   "cell_type": "markdown",
   "metadata": {},
   "source": [
    "## How to use"
   ]
  },
  {
   "cell_type": "markdown",
   "metadata": {},
   "source": [
    "### Profiling Utils\n",
    "\n",
    "Import the utils -- You can either import all the utilities\n",
    "```\n",
    "from my_timesaver_utils.all import *\n",
    "```\n",
    "Or you can import only the profiling package\n",
    "```\n",
    "from my_timesaver_utils.profiling import *\n",
    "```"
   ]
  },
  {
   "cell_type": "markdown",
   "metadata": {},
   "source": [
    "Decorate method or function you want to profile"
   ]
  },
  {
   "cell_type": "code",
   "execution_count": null,
   "metadata": {},
   "outputs": [],
   "source": [
    "#hide_output\n",
    "import time\n",
    "\n",
    "@profile_call\n",
    "def test_func(t=2.0):\n",
    "    time.sleep(1)\n",
    "    "
   ]
  },
  {
   "cell_type": "markdown",
   "metadata": {},
   "source": [
    "Call your method or function"
   ]
  },
  {
   "cell_type": "code",
   "execution_count": null,
   "metadata": {},
   "outputs": [],
   "source": [
    "for i in range(10):\n",
    "    test_func(i)"
   ]
  },
  {
   "cell_type": "markdown",
   "metadata": {},
   "source": [
    "You can also add an optional funcname if you want to replace the name its stored in the profile data"
   ]
  },
  {
   "cell_type": "code",
   "execution_count": null,
   "metadata": {},
   "outputs": [],
   "source": [
    "@profile_call('wachacha')\n",
    "def test_func2():\n",
    "    time.sleep(1.0)"
   ]
  },
  {
   "cell_type": "code",
   "execution_count": null,
   "metadata": {},
   "outputs": [],
   "source": [
    "for i in range(3):\n",
    "    test_func2()\n",
    "    "
   ]
  },
  {
   "cell_type": "markdown",
   "metadata": {},
   "source": [
    "Print your profile data"
   ]
  },
  {
   "cell_type": "code",
   "execution_count": null,
   "metadata": {},
   "outputs": [
    {
     "name": "stdout",
     "output_type": "stream",
     "text": [
      "Function test_func called 20 times.\n",
      "Execution time max: 1.005, average: 1.003\n"
     ]
    }
   ],
   "source": [
    "print_prof_data('test_func')"
   ]
  },
  {
   "cell_type": "markdown",
   "metadata": {},
   "source": [
    "Print your profile data for the test_func2 (aka wachacha)"
   ]
  },
  {
   "cell_type": "code",
   "execution_count": null,
   "metadata": {},
   "outputs": [
    {
     "name": "stdout",
     "output_type": "stream",
     "text": [
      "Function wachacha called 3 times.\n",
      "Execution time max: 1.005, average: 1.004\n"
     ]
    }
   ],
   "source": [
    "print_prof_data('wachacha')"
   ]
  },
  {
   "cell_type": "markdown",
   "metadata": {},
   "source": [
    "Get your profile data (e.g. good for graphing)"
   ]
  },
  {
   "cell_type": "code",
   "execution_count": null,
   "metadata": {},
   "outputs": [
    {
     "data": {
      "text/plain": [
       "[1.0015828609466553,\n",
       " 1.0050618648529053,\n",
       " 1.0031030178070068,\n",
       " 1.005044937133789,\n",
       " 1.0005640983581543,\n",
       " 1.0037250518798828,\n",
       " 1.005134105682373,\n",
       " 1.0017268657684326,\n",
       " 1.0040719509124756,\n",
       " 1.000154972076416,\n",
       " 1.0042312145233154,\n",
       " 1.0004308223724365,\n",
       " 1.0003941059112549,\n",
       " 1.004988193511963,\n",
       " 1.0016610622406006,\n",
       " 1.000688076019287,\n",
       " 1.0050456523895264,\n",
       " 1.0013980865478516,\n",
       " 1.0050151348114014,\n",
       " 1.005051851272583]"
      ]
     },
     "execution_count": null,
     "metadata": {},
     "output_type": "execute_result"
    }
   ],
   "source": [
    "times = get_prof_data('test_func'); times"
   ]
  },
  {
   "cell_type": "markdown",
   "metadata": {},
   "source": [
    "If you can't add a decorator, you can start and end the recording manually and it will be added to the profile data"
   ]
  },
  {
   "cell_type": "code",
   "execution_count": null,
   "metadata": {},
   "outputs": [],
   "source": [
    "for i in range(10):\n",
    "    start_record('my_sleep')\n",
    "    time.sleep(1.)\n",
    "    end_record('my_sleep')"
   ]
  },
  {
   "cell_type": "markdown",
   "metadata": {},
   "source": [
    "As an alternative, the decorator can be invoked this way"
   ]
  },
  {
   "cell_type": "code",
   "execution_count": null,
   "metadata": {},
   "outputs": [],
   "source": [
    "sleep = profile_call(time.sleep)"
   ]
  },
  {
   "cell_type": "code",
   "execution_count": null,
   "metadata": {},
   "outputs": [],
   "source": [
    "for i in range(5):\n",
    "    sleep(i)"
   ]
  },
  {
   "cell_type": "markdown",
   "metadata": {},
   "source": [
    "You can also pass in an optional function name to replace the func name used in the profile data"
   ]
  },
  {
   "cell_type": "code",
   "execution_count": null,
   "metadata": {},
   "outputs": [],
   "source": [
    "sleep2 = profile_call(time.sleep, 'maluman')"
   ]
  },
  {
   "cell_type": "code",
   "execution_count": null,
   "metadata": {},
   "outputs": [],
   "source": [
    "for i in range(3): sleep2(1)"
   ]
  },
  {
   "cell_type": "markdown",
   "metadata": {},
   "source": [
    "If you call `print_prof_data` without any arguments, it will print all the timings for all the functions"
   ]
  },
  {
   "cell_type": "code",
   "execution_count": null,
   "metadata": {},
   "outputs": [
    {
     "name": "stdout",
     "output_type": "stream",
     "text": [
      "Function test_func called 20 times.\n",
      "Execution time max: 1.005, average: 1.003\n",
      "Function wachacha called 3 times.\n",
      "Execution time max: 1.005, average: 1.004\n",
      "Function my_sleep called 10 times.\n",
      "Execution time max: 1.005, average: 1.002\n",
      "Function sleep called 5 times.\n",
      "Execution time max: 4.005, average: 2.003\n",
      "Function maluman called 3 times.\n",
      "Execution time max: 1.003, average: 1.002\n"
     ]
    }
   ],
   "source": [
    "print_prof_data()"
   ]
  },
  {
   "cell_type": "markdown",
   "metadata": {},
   "source": [
    "You can also get the profile data for the manually recorded calls as well."
   ]
  },
  {
   "cell_type": "code",
   "execution_count": null,
   "metadata": {},
   "outputs": [
    {
     "data": {
      "text/plain": [
       "[1.1920928955078125e-05,\n",
       " 1.0048019886016846,\n",
       " 2.0013680458068848,\n",
       " 3.0050129890441895,\n",
       " 4.004997253417969]"
      ]
     },
     "execution_count": null,
     "metadata": {},
     "output_type": "execute_result"
    }
   ],
   "source": [
    "times2 = get_prof_data('sleep');times2"
   ]
  },
  {
   "cell_type": "markdown",
   "metadata": {},
   "source": [
    "You can also save the profile data to a file"
   ]
  },
  {
   "cell_type": "code",
   "execution_count": null,
   "metadata": {},
   "outputs": [],
   "source": [
    "save_file = 'my_profile_data.pickle'"
   ]
  },
  {
   "cell_type": "code",
   "execution_count": null,
   "metadata": {},
   "outputs": [],
   "source": [
    "save_prof_data(save_file)"
   ]
  },
  {
   "cell_type": "markdown",
   "metadata": {},
   "source": [
    "Calling `clear_prof_data` for a function will clear out the data for that function"
   ]
  },
  {
   "cell_type": "code",
   "execution_count": null,
   "metadata": {},
   "outputs": [
    {
     "name": "stdout",
     "output_type": "stream",
     "text": [
      "Function test_func called 20 times.\n",
      "Execution time max: 1.005, average: 1.003\n",
      "Function wachacha called 3 times.\n",
      "Execution time max: 1.005, average: 1.004\n",
      "Function my_sleep called 10 times.\n",
      "Execution time max: 1.005, average: 1.002\n",
      "Function maluman called 3 times.\n",
      "Execution time max: 1.003, average: 1.002\n"
     ]
    }
   ],
   "source": [
    "clear_prof_data('sleep')\n",
    "print_prof_data()"
   ]
  },
  {
   "cell_type": "markdown",
   "metadata": {},
   "source": [
    "Calling the `clear_prof_data` with no arguments will clear out all the previously recorded timings."
   ]
  },
  {
   "cell_type": "code",
   "execution_count": null,
   "metadata": {},
   "outputs": [],
   "source": [
    "clear_prof_data()"
   ]
  },
  {
   "cell_type": "code",
   "execution_count": null,
   "metadata": {},
   "outputs": [],
   "source": [
    "print_prof_data()"
   ]
  },
  {
   "cell_type": "markdown",
   "metadata": {},
   "source": [
    "You can reload the profile data from a previously saved file"
   ]
  },
  {
   "cell_type": "code",
   "execution_count": null,
   "metadata": {},
   "outputs": [],
   "source": [
    "load_prof_data(save_file)"
   ]
  },
  {
   "cell_type": "code",
   "execution_count": null,
   "metadata": {},
   "outputs": [
    {
     "name": "stdout",
     "output_type": "stream",
     "text": [
      "Function test_func called 20 times.\n",
      "Execution time max: 1.005, average: 1.003\n",
      "Function wachacha called 3 times.\n",
      "Execution time max: 1.005, average: 1.004\n",
      "Function my_sleep called 10 times.\n",
      "Execution time max: 1.005, average: 1.002\n",
      "Function sleep called 5 times.\n",
      "Execution time max: 4.005, average: 2.003\n",
      "Function maluman called 3 times.\n",
      "Execution time max: 1.003, average: 1.002\n"
     ]
    }
   ],
   "source": [
    "print_prof_data()"
   ]
  },
  {
   "cell_type": "code",
   "execution_count": null,
   "metadata": {},
   "outputs": [],
   "source": [
    "#hide\n",
    "#local\n",
    "import pathlib\n",
    "pathlib.Path(save_file).unlink()"
   ]
  },
  {
   "cell_type": "markdown",
   "metadata": {},
   "source": [
    "### Profiling Callback\n",
    "\n",
    "Import the utils -- You can either import all the utilities\n",
    "```\n",
    "from my_timesaver_utils.all import *\n",
    "```\n",
    "Or you can import only the profiling callback package\n",
    "```\n",
    "from my_timesaver_utils.profiling_callback import *\n",
    "```"
   ]
  },
  {
   "cell_type": "markdown",
   "metadata": {},
   "source": [
    "#### Example Usage"
   ]
  },
  {
   "cell_type": "code",
   "execution_count": null,
   "metadata": {},
   "outputs": [],
   "source": [
    "#hide\n",
    "#ci\n",
    "!pip install -U fastai --upgrade "
   ]
  },
  {
   "cell_type": "code",
   "execution_count": null,
   "metadata": {},
   "outputs": [],
   "source": [
    "from fastai.vision.all import *"
   ]
  },
  {
   "cell_type": "markdown",
   "metadata": {},
   "source": [
    "Import the whole `my_timesaver_utils` package\n",
    "```\n",
    "from my_timesaver_utils.all import *\n",
    "```\n",
    "or as an alternative, just import the `profiling_callback` package\n",
    "```\n",
    "from my_timesaver_utils.profiling_callback import *\n",
    "```"
   ]
  },
  {
   "cell_type": "code",
   "execution_count": null,
   "metadata": {},
   "outputs": [],
   "source": [
    "#hide\n",
    "from my_timesaver_utils.profiling_callback import *"
   ]
  },
  {
   "cell_type": "markdown",
   "metadata": {},
   "source": [
    "Setup your path, data, datablock, dataloaders and learner as usual."
   ]
  },
  {
   "cell_type": "code",
   "execution_count": null,
   "metadata": {},
   "outputs": [],
   "source": [
    "path = untar_data(URLs.MNIST_TINY)"
   ]
  },
  {
   "cell_type": "code",
   "execution_count": null,
   "metadata": {},
   "outputs": [],
   "source": [
    "Path.BASE_PATH = path"
   ]
  },
  {
   "cell_type": "code",
   "execution_count": null,
   "metadata": {},
   "outputs": [],
   "source": [
    "datablock = DataBlock(\n",
    "    blocks=(ImageBlock,CategoryBlock),\n",
    "    get_items=get_image_files,\n",
    "    get_y=parent_label,\n",
    "    splitter=GrandparentSplitter(),\n",
    "    item_tfms=Resize(28),\n",
    "    batch_tfms=[]\n",
    ")"
   ]
  },
  {
   "cell_type": "code",
   "execution_count": null,
   "metadata": {},
   "outputs": [],
   "source": [
    "dls = datablock.dataloaders(path)"
   ]
  },
  {
   "cell_type": "code",
   "execution_count": null,
   "metadata": {},
   "outputs": [],
   "source": [
    "learner = cnn_learner(dls,resnet18,metrics=accuracy)"
   ]
  },
  {
   "cell_type": "markdown",
   "metadata": {},
   "source": [
    "Importing the profiling callback adds a method `to_my_profile` to the `learner` object"
   ]
  },
  {
   "cell_type": "code",
   "execution_count": null,
   "metadata": {},
   "outputs": [
    {
     "data": {
      "text/plain": [
       "<fastai.learner.Learner at 0x139594d10>"
      ]
     },
     "execution_count": null,
     "metadata": {},
     "output_type": "execute_result"
    }
   ],
   "source": [
    "learner.to_my_profile()"
   ]
  },
  {
   "cell_type": "markdown",
   "metadata": {},
   "source": [
    "Calling the `to_my_profile` method on the `learner` object adds a callback called `MyProfileCallback` which can be accessed through the `learner` attribute `my_profile`."
   ]
  },
  {
   "cell_type": "code",
   "execution_count": null,
   "metadata": {},
   "outputs": [
    {
     "data": {
      "text/plain": [
       "Sequential (Input shape: ['64 x 3 x 28 x 28'])\n",
       "================================================================\n",
       "Layer (type)         Output Shape         Param #    Trainable \n",
       "================================================================\n",
       "Conv2d               64 x 64 x 14 x 14    9,408      False     \n",
       "________________________________________________________________\n",
       "BatchNorm2d          64 x 64 x 14 x 14    128        True      \n",
       "________________________________________________________________\n",
       "ReLU                 64 x 64 x 14 x 14    0          False     \n",
       "________________________________________________________________\n",
       "MaxPool2d            64 x 64 x 7 x 7      0          False     \n",
       "________________________________________________________________\n",
       "Conv2d               64 x 64 x 7 x 7      36,864     False     \n",
       "________________________________________________________________\n",
       "BatchNorm2d          64 x 64 x 7 x 7      128        True      \n",
       "________________________________________________________________\n",
       "ReLU                 64 x 64 x 7 x 7      0          False     \n",
       "________________________________________________________________\n",
       "Conv2d               64 x 64 x 7 x 7      36,864     False     \n",
       "________________________________________________________________\n",
       "BatchNorm2d          64 x 64 x 7 x 7      128        True      \n",
       "________________________________________________________________\n",
       "Conv2d               64 x 64 x 7 x 7      36,864     False     \n",
       "________________________________________________________________\n",
       "BatchNorm2d          64 x 64 x 7 x 7      128        True      \n",
       "________________________________________________________________\n",
       "ReLU                 64 x 64 x 7 x 7      0          False     \n",
       "________________________________________________________________\n",
       "Conv2d               64 x 64 x 7 x 7      36,864     False     \n",
       "________________________________________________________________\n",
       "BatchNorm2d          64 x 64 x 7 x 7      128        True      \n",
       "________________________________________________________________\n",
       "Conv2d               64 x 128 x 4 x 4     73,728     False     \n",
       "________________________________________________________________\n",
       "BatchNorm2d          64 x 128 x 4 x 4     256        True      \n",
       "________________________________________________________________\n",
       "ReLU                 64 x 128 x 4 x 4     0          False     \n",
       "________________________________________________________________\n",
       "Conv2d               64 x 128 x 4 x 4     147,456    False     \n",
       "________________________________________________________________\n",
       "BatchNorm2d          64 x 128 x 4 x 4     256        True      \n",
       "________________________________________________________________\n",
       "Conv2d               64 x 128 x 4 x 4     8,192      False     \n",
       "________________________________________________________________\n",
       "BatchNorm2d          64 x 128 x 4 x 4     256        True      \n",
       "________________________________________________________________\n",
       "Conv2d               64 x 128 x 4 x 4     147,456    False     \n",
       "________________________________________________________________\n",
       "BatchNorm2d          64 x 128 x 4 x 4     256        True      \n",
       "________________________________________________________________\n",
       "ReLU                 64 x 128 x 4 x 4     0          False     \n",
       "________________________________________________________________\n",
       "Conv2d               64 x 128 x 4 x 4     147,456    False     \n",
       "________________________________________________________________\n",
       "BatchNorm2d          64 x 128 x 4 x 4     256        True      \n",
       "________________________________________________________________\n",
       "Conv2d               64 x 256 x 2 x 2     294,912    False     \n",
       "________________________________________________________________\n",
       "BatchNorm2d          64 x 256 x 2 x 2     512        True      \n",
       "________________________________________________________________\n",
       "ReLU                 64 x 256 x 2 x 2     0          False     \n",
       "________________________________________________________________\n",
       "Conv2d               64 x 256 x 2 x 2     589,824    False     \n",
       "________________________________________________________________\n",
       "BatchNorm2d          64 x 256 x 2 x 2     512        True      \n",
       "________________________________________________________________\n",
       "Conv2d               64 x 256 x 2 x 2     32,768     False     \n",
       "________________________________________________________________\n",
       "BatchNorm2d          64 x 256 x 2 x 2     512        True      \n",
       "________________________________________________________________\n",
       "Conv2d               64 x 256 x 2 x 2     589,824    False     \n",
       "________________________________________________________________\n",
       "BatchNorm2d          64 x 256 x 2 x 2     512        True      \n",
       "________________________________________________________________\n",
       "ReLU                 64 x 256 x 2 x 2     0          False     \n",
       "________________________________________________________________\n",
       "Conv2d               64 x 256 x 2 x 2     589,824    False     \n",
       "________________________________________________________________\n",
       "BatchNorm2d          64 x 256 x 2 x 2     512        True      \n",
       "________________________________________________________________\n",
       "Conv2d               64 x 512 x 1 x 1     1,179,648  False     \n",
       "________________________________________________________________\n",
       "BatchNorm2d          64 x 512 x 1 x 1     1,024      True      \n",
       "________________________________________________________________\n",
       "ReLU                 64 x 512 x 1 x 1     0          False     \n",
       "________________________________________________________________\n",
       "Conv2d               64 x 512 x 1 x 1     2,359,296  False     \n",
       "________________________________________________________________\n",
       "BatchNorm2d          64 x 512 x 1 x 1     1,024      True      \n",
       "________________________________________________________________\n",
       "Conv2d               64 x 512 x 1 x 1     131,072    False     \n",
       "________________________________________________________________\n",
       "BatchNorm2d          64 x 512 x 1 x 1     1,024      True      \n",
       "________________________________________________________________\n",
       "Conv2d               64 x 512 x 1 x 1     2,359,296  False     \n",
       "________________________________________________________________\n",
       "BatchNorm2d          64 x 512 x 1 x 1     1,024      True      \n",
       "________________________________________________________________\n",
       "ReLU                 64 x 512 x 1 x 1     0          False     \n",
       "________________________________________________________________\n",
       "Conv2d               64 x 512 x 1 x 1     2,359,296  False     \n",
       "________________________________________________________________\n",
       "BatchNorm2d          64 x 512 x 1 x 1     1,024      True      \n",
       "________________________________________________________________\n",
       "AdaptiveAvgPool2d    64 x 512 x 1 x 1     0          False     \n",
       "________________________________________________________________\n",
       "AdaptiveMaxPool2d    64 x 512 x 1 x 1     0          False     \n",
       "________________________________________________________________\n",
       "Flatten              64 x 1024            0          False     \n",
       "________________________________________________________________\n",
       "BatchNorm1d          64 x 1024            2,048      True      \n",
       "________________________________________________________________\n",
       "Dropout              64 x 1024            0          False     \n",
       "________________________________________________________________\n",
       "Linear               64 x 512             524,288    True      \n",
       "________________________________________________________________\n",
       "ReLU                 64 x 512             0          False     \n",
       "________________________________________________________________\n",
       "BatchNorm1d          64 x 512             1,024      True      \n",
       "________________________________________________________________\n",
       "Dropout              64 x 512             0          False     \n",
       "________________________________________________________________\n",
       "Linear               64 x 2               1,024      True      \n",
       "________________________________________________________________\n",
       "\n",
       "Total params: 11,704,896\n",
       "Total trainable params: 537,984\n",
       "Total non-trainable params: 11,166,912\n",
       "\n",
       "Optimizer used: <function Adam at 0x1390a5200>\n",
       "Loss function: FlattenedLoss of CrossEntropyLoss()\n",
       "\n",
       "Model frozen up to parameter group number 2\n",
       "\n",
       "Callbacks:\n",
       "  - TrainEvalCallback\n",
       "  - Recorder\n",
       "  - ProgressCallback\n",
       "  - MyProfileCallback"
      ]
     },
     "execution_count": null,
     "metadata": {},
     "output_type": "execute_result"
    }
   ],
   "source": [
    "learner.summary()"
   ]
  },
  {
   "cell_type": "code",
   "execution_count": null,
   "metadata": {},
   "outputs": [
    {
     "data": {
      "text/plain": [
       "MyProfileCallback"
      ]
     },
     "execution_count": null,
     "metadata": {},
     "output_type": "execute_result"
    }
   ],
   "source": [
    "learner.my_profile"
   ]
  },
  {
   "cell_type": "markdown",
   "metadata": {},
   "source": [
    "Call the `print_stats` method on the `my_profile` attribute of the `Learner` object displays a hierarchical list of the training lifecycle events -- in this case with no data yet as the `fit` method has not been called."
   ]
  },
  {
   "cell_type": "code",
   "execution_count": null,
   "metadata": {},
   "outputs": [
    {
     "name": "stdout",
     "output_type": "stream",
     "text": [
      "fit has no data\n",
      "   epoch has no data\n",
      "      train has no data\n",
      "         train_batch has no data\n",
      "            train_pred has no data\n",
      "            train_loss has no data\n",
      "            train_backward has no data\n",
      "            train_step has no data\n",
      "            train_zero_grad has no data\n",
      "      valid has no data\n",
      "         valid_batch has no data\n",
      "            valid_pred has no data\n",
      "            valid_loss has no data\n"
     ]
    }
   ],
   "source": [
    "learner.my_profile.print_stats()"
   ]
  },
  {
   "cell_type": "code",
   "execution_count": null,
   "metadata": {},
   "outputs": [
    {
     "data": {
      "text/html": [
       "<table border=\"1\" class=\"dataframe\">\n",
       "  <thead>\n",
       "    <tr style=\"text-align: left;\">\n",
       "      <th>epoch</th>\n",
       "      <th>train_loss</th>\n",
       "      <th>valid_loss</th>\n",
       "      <th>accuracy</th>\n",
       "      <th>time</th>\n",
       "    </tr>\n",
       "  </thead>\n",
       "  <tbody>\n",
       "    <tr>\n",
       "      <td>0</td>\n",
       "      <td>0.655225</td>\n",
       "      <td>0.184525</td>\n",
       "      <td>0.941345</td>\n",
       "      <td>00:14</td>\n",
       "    </tr>\n",
       "  </tbody>\n",
       "</table>"
      ],
      "text/plain": [
       "<IPython.core.display.HTML object>"
      ]
     },
     "metadata": {},
     "output_type": "display_data"
    }
   ],
   "source": [
    "learner.fit(1)"
   ]
  },
  {
   "cell_type": "markdown",
   "metadata": {},
   "source": [
    "The `print_stats` method now prints the execution counts, max time and avg time (in secs) for each part of the training lifecycle."
   ]
  },
  {
   "cell_type": "code",
   "execution_count": null,
   "metadata": {},
   "outputs": [
    {
     "name": "stdout",
     "output_type": "stream",
     "text": [
      "fit  called 1 times. max: 14.542 avg: 14.542\n",
      "   epoch  called 1 times. max: 14.539 avg: 14.539\n",
      "      train  called 1 times. max: 12.276 avg: 12.276\n",
      "         train_batch  called 11 times. max: 1.159 avg: 1.076\n",
      "            train_pred  called 11 times. max: 0.269 avg: 0.236\n",
      "            train_loss  called 11 times. max: 0.001 avg: 0.001\n",
      "            train_backward  called 11 times. max: 0.872 avg: 0.828\n",
      "            train_step  called 11 times. max: 0.012 avg: 0.008\n",
      "            train_zero_grad  called 11 times. max: 0.005 avg: 0.003\n",
      "      valid  called 1 times. max: 2.256 avg: 2.256\n",
      "         valid_batch  called 11 times. max: 0.208 avg: 0.183\n",
      "            valid_pred  called 11 times. max: 0.201 avg: 0.180\n",
      "            valid_loss  called 11 times. max: 0.001 avg: 0.001\n"
     ]
    }
   ],
   "source": [
    "learner.my_profile.print_stats()"
   ]
  },
  {
   "cell_type": "markdown",
   "metadata": {},
   "source": [
    "The stats can also be collected as a list of tuples where each tuple consists of the lifecycle event name, the level, and the elapsed times. "
   ]
  },
  {
   "cell_type": "code",
   "execution_count": null,
   "metadata": {},
   "outputs": [
    {
     "data": {
      "text/plain": [
       "[('fit', 0, [14.542369842529297]),\n",
       " ('epoch', 1, [14.539028882980347]),\n",
       " ('train', 2, [12.275759220123291]),\n",
       " ('train_batch',\n",
       "  3,\n",
       "  [1.1590299606323242,\n",
       "   1.1047968864440918,\n",
       "   1.05731201171875,\n",
       "   1.0566790103912354,\n",
       "   1.0275590419769287,\n",
       "   1.0583367347717285,\n",
       "   1.0706360340118408,\n",
       "   1.0878362655639648,\n",
       "   1.0695040225982666,\n",
       "   1.0548479557037354,\n",
       "   1.0869989395141602]),\n",
       " ('train_pred',\n",
       "  4,\n",
       "  [0.2687697410583496,\n",
       "   0.2391033172607422,\n",
       "   0.2244129180908203,\n",
       "   0.2360670566558838,\n",
       "   0.2223670482635498,\n",
       "   0.23363089561462402,\n",
       "   0.23241806030273438,\n",
       "   0.2404940128326416,\n",
       "   0.22686195373535156,\n",
       "   0.22826123237609863,\n",
       "   0.24588418006896973]),\n",
       " ('train_loss',\n",
       "  4,\n",
       "  [0.0010721683502197266,\n",
       "   0.0006809234619140625,\n",
       "   0.0006620883941650391,\n",
       "   0.0007491111755371094,\n",
       "   0.0006761550903320312,\n",
       "   0.000698089599609375,\n",
       "   0.0007200241088867188,\n",
       "   0.0008070468902587891,\n",
       "   0.0006639957427978516,\n",
       "   0.0006880760192871094,\n",
       "   0.0007140636444091797]),\n",
       " ('train_backward',\n",
       "  4,\n",
       "  [0.8724572658538818,\n",
       "   0.8547101020812988,\n",
       "   0.8222289085388184,\n",
       "   0.8091421127319336,\n",
       "   0.7942306995391846,\n",
       "   0.8135287761688232,\n",
       "   0.8273820877075195,\n",
       "   0.8366448879241943,\n",
       "   0.8316769599914551,\n",
       "   0.8132097721099854,\n",
       "   0.8283698558807373]),\n",
       " ('train_step',\n",
       "  4,\n",
       "  [0.011558294296264648,\n",
       "   0.0077021121978759766,\n",
       "   0.0075457096099853516,\n",
       "   0.007853031158447266,\n",
       "   0.007728099822998047,\n",
       "   0.00794076919555664,\n",
       "   0.007550954818725586,\n",
       "   0.0073511600494384766,\n",
       "   0.007617950439453125,\n",
       "   0.009986162185668945,\n",
       "   0.00926518440246582]),\n",
       " ('train_zero_grad',\n",
       "  4,\n",
       "  [0.005139350891113281,\n",
       "   0.0025839805603027344,\n",
       "   0.002447843551635742,\n",
       "   0.0028531551361083984,\n",
       "   0.002541065216064453,\n",
       "   0.0025222301483154297,\n",
       "   0.0025501251220703125,\n",
       "   0.0025250911712646484,\n",
       "   0.0026650428771972656,\n",
       "   0.002687215805053711,\n",
       "   0.002749919891357422]),\n",
       " ('valid', 2, [2.2555930614471436]),\n",
       " ('valid_batch',\n",
       "  3,\n",
       "  [0.20812106132507324,\n",
       "   0.18181729316711426,\n",
       "   0.187255859375,\n",
       "   0.1778090000152588,\n",
       "   0.18497300148010254,\n",
       "   0.18157696723937988,\n",
       "   0.18445587158203125,\n",
       "   0.18021106719970703,\n",
       "   0.1816089153289795,\n",
       "   0.18120694160461426,\n",
       "   0.16774797439575195]),\n",
       " ('valid_pred',\n",
       "  4,\n",
       "  [0.20078110694885254,\n",
       "   0.1788790225982666,\n",
       "   0.18420696258544922,\n",
       "   0.17487597465515137,\n",
       "   0.18212318420410156,\n",
       "   0.17869901657104492,\n",
       "   0.18164587020874023,\n",
       "   0.17727923393249512,\n",
       "   0.1787278652191162,\n",
       "   0.1784052848815918,\n",
       "   0.16483402252197266]),\n",
       " ('valid_loss',\n",
       "  4,\n",
       "  [0.001481771469116211,\n",
       "   0.0005438327789306641,\n",
       "   0.0005319118499755859,\n",
       "   0.0005309581756591797,\n",
       "   0.0005328655242919922,\n",
       "   0.0005371570587158203,\n",
       "   0.0005366802215576172,\n",
       "   0.0005400180816650391,\n",
       "   0.0005350112915039062,\n",
       "   0.0005319118499755859,\n",
       "   0.0005390644073486328])]"
      ]
     },
     "execution_count": null,
     "metadata": {},
     "output_type": "execute_result"
    }
   ],
   "source": [
    "fit_stats = learner.my_profile.get_stats();fit_stats"
   ]
  },
  {
   "cell_type": "markdown",
   "metadata": {},
   "source": [
    "The `print_stats` can also print just the stats for one lifecycle event "
   ]
  },
  {
   "cell_type": "code",
   "execution_count": null,
   "metadata": {},
   "outputs": [
    {
     "name": "stdout",
     "output_type": "stream",
     "text": [
      "         train_batch  called 11 times. max: 1.159 avg: 1.076\n"
     ]
    }
   ],
   "source": [
    "learner.my_profile.print_stats('train_batch')"
   ]
  },
  {
   "cell_type": "markdown",
   "metadata": {},
   "source": [
    "The `get_stats` can also just collect the stats for one lifecycle event"
   ]
  },
  {
   "cell_type": "code",
   "execution_count": null,
   "metadata": {},
   "outputs": [
    {
     "data": {
      "text/plain": [
       "('train_batch',\n",
       " 3,\n",
       " [1.1590299606323242,\n",
       "  1.1047968864440918,\n",
       "  1.05731201171875,\n",
       "  1.0566790103912354,\n",
       "  1.0275590419769287,\n",
       "  1.0583367347717285,\n",
       "  1.0706360340118408,\n",
       "  1.0878362655639648,\n",
       "  1.0695040225982666,\n",
       "  1.0548479557037354,\n",
       "  1.0869989395141602])"
      ]
     },
     "execution_count": null,
     "metadata": {},
     "output_type": "execute_result"
    }
   ],
   "source": [
    "train_batch_stats = learner.my_profile.get_stats('train_batch'); train_batch_stats"
   ]
  },
  {
   "cell_type": "markdown",
   "metadata": {},
   "source": [
    "Call the `clear_stats` to clear the stats. You can also pass a lifecycle event to clear a single event"
   ]
  },
  {
   "cell_type": "code",
   "execution_count": null,
   "metadata": {},
   "outputs": [],
   "source": [
    "learner.my_profile.clear_stats()"
   ]
  },
  {
   "cell_type": "code",
   "execution_count": null,
   "metadata": {},
   "outputs": [
    {
     "name": "stdout",
     "output_type": "stream",
     "text": [
      "fit has no data\n",
      "   epoch has no data\n",
      "      train has no data\n",
      "         train_batch has no data\n",
      "            train_pred has no data\n",
      "            train_loss has no data\n",
      "            train_backward has no data\n",
      "            train_step has no data\n",
      "            train_zero_grad has no data\n",
      "      valid has no data\n",
      "         valid_batch has no data\n",
      "            valid_pred has no data\n",
      "            valid_loss has no data\n"
     ]
    }
   ],
   "source": [
    "learner.my_profile.print_stats()"
   ]
  },
  {
   "cell_type": "code",
   "execution_count": null,
   "metadata": {},
   "outputs": [
    {
     "name": "stdout",
     "output_type": "stream",
     "text": [
      "      train has no data\n"
     ]
    }
   ],
   "source": [
    "learner.my_profile.print_stats('train')"
   ]
  },
  {
   "cell_type": "code",
   "execution_count": null,
   "metadata": {},
   "outputs": [
    {
     "data": {
      "text/html": [
       "<table border=\"1\" class=\"dataframe\">\n",
       "  <thead>\n",
       "    <tr style=\"text-align: left;\">\n",
       "      <th>epoch</th>\n",
       "      <th>train_loss</th>\n",
       "      <th>valid_loss</th>\n",
       "      <th>accuracy</th>\n",
       "      <th>time</th>\n",
       "    </tr>\n",
       "  </thead>\n",
       "  <tbody>\n",
       "    <tr>\n",
       "      <td>0</td>\n",
       "      <td>0.974439</td>\n",
       "      <td>0.237767</td>\n",
       "      <td>0.924177</td>\n",
       "      <td>00:15</td>\n",
       "    </tr>\n",
       "  </tbody>\n",
       "</table>"
      ],
      "text/plain": [
       "<IPython.core.display.HTML object>"
      ]
     },
     "metadata": {},
     "output_type": "display_data"
    },
    {
     "data": {
      "text/html": [
       "<table border=\"1\" class=\"dataframe\">\n",
       "  <thead>\n",
       "    <tr style=\"text-align: left;\">\n",
       "      <th>epoch</th>\n",
       "      <th>train_loss</th>\n",
       "      <th>valid_loss</th>\n",
       "      <th>accuracy</th>\n",
       "      <th>time</th>\n",
       "    </tr>\n",
       "  </thead>\n",
       "  <tbody>\n",
       "    <tr>\n",
       "      <td>0</td>\n",
       "      <td>0.354515</td>\n",
       "      <td>0.197183</td>\n",
       "      <td>0.928469</td>\n",
       "      <td>00:23</td>\n",
       "    </tr>\n",
       "  </tbody>\n",
       "</table>"
      ],
      "text/plain": [
       "<IPython.core.display.HTML object>"
      ]
     },
     "metadata": {},
     "output_type": "display_data"
    }
   ],
   "source": [
    "learner.fine_tune(1)"
   ]
  },
  {
   "cell_type": "code",
   "execution_count": null,
   "metadata": {},
   "outputs": [
    {
     "name": "stdout",
     "output_type": "stream",
     "text": [
      "fit  called 2 times. max: 22.964 avg: 18.613\n",
      "   epoch  called 2 times. max: 22.960 avg: 18.609\n",
      "      train  called 2 times. max: 20.698 avg: 16.336\n",
      "         train_batch  called 22 times. max: 2.011 avg: 1.460\n",
      "            train_pred  called 22 times. max: 0.280 avg: 0.232\n",
      "            train_loss  called 22 times. max: 0.001 avg: 0.001\n",
      "            train_backward  called 22 times. max: 1.540 avg: 1.165\n",
      "            train_step  called 22 times. max: 0.195 avg: 0.057\n",
      "            train_zero_grad  called 22 times. max: 0.010 avg: 0.005\n",
      "      valid  called 2 times. max: 2.277 avg: 2.267\n",
      "         valid_batch  called 22 times. max: 0.217 avg: 0.184\n",
      "            valid_pred  called 22 times. max: 0.209 avg: 0.181\n",
      "            valid_loss  called 22 times. max: 0.002 avg: 0.001\n"
     ]
    }
   ],
   "source": [
    "learner.my_profile.print_stats()"
   ]
  },
  {
   "cell_type": "markdown",
   "metadata": {},
   "source": [
    "##### My Profile Reset Attribute\n",
    "\n",
    "Setting the `reset` attribute to true on the `my_profile` attribute will cause the stats to be reset each time the `fit` method of the `Learner` is called. So only the accumulated stats for the last call to `fit` (e.g `fine_tune` calls `fit` twice, but setting the `reset` attribute to true will show only the stats for the second `fit` call.\n",
    "The default value of `reset` is `False`."
   ]
  },
  {
   "cell_type": "code",
   "execution_count": null,
   "metadata": {},
   "outputs": [],
   "source": [
    "learner.my_profile.reset = True"
   ]
  },
  {
   "cell_type": "code",
   "execution_count": null,
   "metadata": {},
   "outputs": [
    {
     "data": {
      "text/html": [
       "<table border=\"1\" class=\"dataframe\">\n",
       "  <thead>\n",
       "    <tr style=\"text-align: left;\">\n",
       "      <th>epoch</th>\n",
       "      <th>train_loss</th>\n",
       "      <th>valid_loss</th>\n",
       "      <th>accuracy</th>\n",
       "      <th>time</th>\n",
       "    </tr>\n",
       "  </thead>\n",
       "  <tbody>\n",
       "    <tr>\n",
       "      <td>0</td>\n",
       "      <td>0.954453</td>\n",
       "      <td>0.249635</td>\n",
       "      <td>0.905579</td>\n",
       "      <td>00:14</td>\n",
       "    </tr>\n",
       "  </tbody>\n",
       "</table>"
      ],
      "text/plain": [
       "<IPython.core.display.HTML object>"
      ]
     },
     "metadata": {},
     "output_type": "display_data"
    },
    {
     "data": {
      "text/html": [
       "<table border=\"1\" class=\"dataframe\">\n",
       "  <thead>\n",
       "    <tr style=\"text-align: left;\">\n",
       "      <th>epoch</th>\n",
       "      <th>train_loss</th>\n",
       "      <th>valid_loss</th>\n",
       "      <th>accuracy</th>\n",
       "      <th>time</th>\n",
       "    </tr>\n",
       "  </thead>\n",
       "  <tbody>\n",
       "    <tr>\n",
       "      <td>0</td>\n",
       "      <td>0.354821</td>\n",
       "      <td>0.196215</td>\n",
       "      <td>0.932761</td>\n",
       "      <td>00:23</td>\n",
       "    </tr>\n",
       "  </tbody>\n",
       "</table>"
      ],
      "text/plain": [
       "<IPython.core.display.HTML object>"
      ]
     },
     "metadata": {},
     "output_type": "display_data"
    }
   ],
   "source": [
    "learner.fine_tune(1)"
   ]
  },
  {
   "cell_type": "code",
   "execution_count": null,
   "metadata": {},
   "outputs": [
    {
     "name": "stdout",
     "output_type": "stream",
     "text": [
      "fit  called 1 times. max: 22.159 avg: 22.159\n",
      "   epoch  called 1 times. max: 22.154 avg: 22.154\n",
      "      train  called 1 times. max: 19.886 avg: 19.886\n",
      "         train_batch  called 11 times. max: 1.939 avg: 1.784\n",
      "            train_pred  called 11 times. max: 0.264 avg: 0.231\n",
      "            train_loss  called 11 times. max: 0.001 avg: 0.001\n",
      "            train_backward  called 11 times. max: 1.483 avg: 1.440\n",
      "            train_step  called 11 times. max: 0.182 avg: 0.104\n",
      "            train_zero_grad  called 11 times. max: 0.010 avg: 0.008\n",
      "      valid  called 1 times. max: 2.263 avg: 2.263\n",
      "         valid_batch  called 11 times. max: 0.205 avg: 0.184\n",
      "            valid_pred  called 11 times. max: 0.198 avg: 0.180\n",
      "            valid_loss  called 11 times. max: 0.002 avg: 0.001\n"
     ]
    }
   ],
   "source": [
    "learner.my_profile.print_stats()"
   ]
  },
  {
   "cell_type": "code",
   "execution_count": null,
   "metadata": {},
   "outputs": [
    {
     "data": {
      "text/plain": [
       "True"
      ]
     },
     "execution_count": null,
     "metadata": {},
     "output_type": "execute_result"
    }
   ],
   "source": [
    "learner.my_profile.reset"
   ]
  },
  {
   "cell_type": "markdown",
   "metadata": {},
   "source": [
    "### Enhanced Image Classifier Cleaner\n",
    "\n",
    "Import the utils -- You can either import all the utilities\n",
    "```\n",
    "from my_timesaver_utils.all import *\n",
    "```\n",
    "Or you can import only the enhanced image classifier cleaner package\n",
    "```\n",
    "from my_timesaver_utils.enhanced_imageclassifiercleaner import *\n",
    "```\n",
    "\n",
    "#### Prerequisites\n",
    "In order to use the `EnhancedImageClassifierCleaner` (just like the fastai `ImageClassifierCleaner`), we will need to have an existing fastai `Learner` object.\n",
    "\n",
    "#### Usage\n",
    "Just create an instance of `EnhancedImageClassifierCleaner` object. \n",
    "```\n",
    "cleaner = EnhancedImageClassifierCleaner(learner)\n",
    "cleaner # on a separate line, this will display the widget\n",
    "```\n",
    "\n",
    "If you updated your dataset, you can refresh your dataloader by running \n",
    "```\n",
    "newdls = datablock.dataloaders(path)\n",
    "learner.dls = newdls # assume learner was previously created or loaded\n",
    "cleaner = EnhancedImageClassifierCleaner(learner)\n",
    "```\n",
    "This will then display the updated images from your dataset."
   ]
  },
  {
   "cell_type": "code",
   "execution_count": null,
   "metadata": {},
   "outputs": [],
   "source": [
    "cleaner = EnhancedImageClassifierCleaner(learner)\n",
    "cleaner"
   ]
  },
  {
   "cell_type": "markdown",
   "metadata": {},
   "source": [
    "![pic of enhanced-image-classifier-cleaner widget](images/enhanced-image-classifiercleaner.png)"
   ]
  },
  {
   "cell_type": "markdown",
   "metadata": {},
   "source": [
    "#### Custom Valid/Train folder structures and labeled categories\n",
    "\n",
    "The default folder structure for the Enhanced Image Classifier Cleaner \n",
    "assumes that you are using `RandomSplitter` or `GrandparentSplitter` as \n",
    "your `splitter` and `parent_label` as the `get_y` parameter in your datablock.\n",
    "\n",
    "If you have a custom valid/train splitter and your image files are not segregated by categories within them,\n",
    "you will need  to create a custom file mover in order to update your image labels (aka categories).\n",
    "\n",
    "The default implementation of the `file_mover` is shown below:\n",
    "```\n",
    "export\n",
    "import shutil\n",
    "def parent_move_file(fn, newcat):\n",
    "    new_path = fn.parent.parent/newcat\n",
    "    if new_path.is_dir():\n",
    "        shutil.move(str(fn), new_path)\n",
    "        new_file = new_path/fn.name\n",
    "        return new_file\n",
    "    return fn\n",
    "```\n",
    "The default implementation will work with either a `RandomSplitter` or `GrandparentSplitter`\n",
    "and if `parent_label` is used to get the labels. \n",
    "\n",
    "Otherwise, you will need to modify the file_mover argument with a custom one\n",
    "and pass it as follows\n",
    "\n",
    "```\n",
    "cleaner = EnhancedImageClassifierCleaner(learner, file_mover=custom_file_mover)\n",
    "```\n",
    "\n",
    "\n",
    "\n"
   ]
  }
 ],
 "metadata": {
  "kernelspec": {
   "display_name": "Python 3",
   "language": "python",
   "name": "python3"
  }
 },
 "nbformat": 4,
 "nbformat_minor": 2
}
