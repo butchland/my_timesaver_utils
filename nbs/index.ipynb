{
 "cells": [
  {
   "cell_type": "code",
   "execution_count": null,
   "metadata": {},
   "outputs": [
    {
     "name": "stdout",
     "output_type": "stream",
     "text": [
      "/Users/butch/devt/workspaces/python3/fastai2_2020/experiments/my_timesaver_utils\n",
      "/Users/butch/devt/workspaces/python3/fastai2_2020/experiments/my_timesaver_utils/nbs\n"
     ]
    }
   ],
   "source": [
    "#hide\n",
    "%cd ..\n",
    "from my_timesaver_utils.all import *\n",
    "%cd nbs"
   ]
  },
  {
   "cell_type": "markdown",
   "metadata": {},
   "source": [
    "# My Timesaver utilities\n",
    "> A set of simple utilities I found useful to import "
   ]
  },
  {
   "cell_type": "markdown",
   "metadata": {},
   "source": [
    "This is the current list of functions\n",
    "\n",
    "* Profiling Utilities\n",
    "    * `@profile_call(fname=None)` - a function or method decorator to record execution times\n",
    "    * `print_prof_data(fname=None)` - prints out profile data for function `fname` or all functions if `fname` is None\n",
    "    * `clear_prof_data()` - clears out profile data\n",
    "    * `get_prof_data(fname)` - get exec times for `fname`\n",
    "    * `start_record(fname)` - start recording time for `fname` (alternative to decorator if function cannot decorated)\n",
    "    * `end_record(fname)` - stop recording and add elapsed time for `fname` \n",
    "    * `save_prof_data(file_name)` - save profile data to `file_name`\n",
    "    * `load_prof_data(file_name)` - load profile data from `file_name`\n",
    " "
   ]
  },
  {
   "cell_type": "markdown",
   "metadata": {},
   "source": [
    "## Install"
   ]
  },
  {
   "cell_type": "markdown",
   "metadata": {},
   "source": [
    "`pip install git+https://github.com/butchland/my_timesaver_utils.git`"
   ]
  },
  {
   "cell_type": "markdown",
   "metadata": {},
   "source": [
    "## How to use"
   ]
  },
  {
   "cell_type": "markdown",
   "metadata": {},
   "source": [
    "### Profiling Utils\n",
    "\n",
    "Import the utils -- You can either import all the utilities\n",
    "```\n",
    "from my_timesaver_utils import *\n",
    "```\n",
    "Or you can import only the profiling package\n",
    "```\n",
    "from my_timesaver_utils.profiling import *\n",
    "```"
   ]
  },
  {
   "cell_type": "markdown",
   "metadata": {},
   "source": [
    "Decorate method or function you want to profile"
   ]
  },
  {
   "cell_type": "code",
   "execution_count": null,
   "metadata": {},
   "outputs": [],
   "source": [
    "import time\n",
    "\n",
    "@profile_call\n",
    "def test_func(t=2.0):\n",
    "    time.sleep(1)\n",
    "    "
   ]
  },
  {
   "cell_type": "markdown",
   "metadata": {},
   "source": [
    "Call your method or function"
   ]
  },
  {
   "cell_type": "code",
   "execution_count": null,
   "metadata": {},
   "outputs": [],
   "source": [
    "for i in range(10):\n",
    "    test_func(i)"
   ]
  },
  {
   "cell_type": "markdown",
   "metadata": {},
   "source": [
    "You can also add an optional funcname if you want to replace the name its stored in the profile data"
   ]
  },
  {
   "cell_type": "code",
   "execution_count": null,
   "metadata": {},
   "outputs": [],
   "source": [
    "@profile_call('wachacha')\n",
    "def test_func2():\n",
    "    time.sleep(1.0)"
   ]
  },
  {
   "cell_type": "code",
   "execution_count": null,
   "metadata": {},
   "outputs": [],
   "source": [
    "for i in range(3):\n",
    "    test_func2()\n",
    "    "
   ]
  },
  {
   "cell_type": "markdown",
   "metadata": {},
   "source": [
    "Print your profile data"
   ]
  },
  {
   "cell_type": "code",
   "execution_count": null,
   "metadata": {},
   "outputs": [
    {
     "name": "stdout",
     "output_type": "stream",
     "text": [
      "Function test_func called 10 times.\n",
      "Execution time max: 1.005, average: 1.004\n"
     ]
    }
   ],
   "source": [
    "print_prof_data('test_func')"
   ]
  },
  {
   "cell_type": "markdown",
   "metadata": {},
   "source": [
    "Print your profile data for the test_func2 (aka wachacha)"
   ]
  },
  {
   "cell_type": "code",
   "execution_count": null,
   "metadata": {},
   "outputs": [
    {
     "name": "stdout",
     "output_type": "stream",
     "text": [
      "Function wachacha called 3 times.\n",
      "Execution time max: 1.005, average: 1.004\n"
     ]
    }
   ],
   "source": [
    "print_prof_data('wachacha')"
   ]
  },
  {
   "cell_type": "markdown",
   "metadata": {},
   "source": [
    "Get your profile data (e.g. good for graphing)"
   ]
  },
  {
   "cell_type": "code",
   "execution_count": null,
   "metadata": {},
   "outputs": [
    {
     "data": {
      "text/plain": [
       "[1.0050780773162842,\n",
       " 1.005082130432129,\n",
       " 1.0029971599578857,\n",
       " 1.0050528049468994,\n",
       " 1.0050477981567383,\n",
       " 1.005047082901001,\n",
       " 1.001734972000122,\n",
       " 1.0003960132598877,\n",
       " 1.005075216293335,\n",
       " 1.005049228668213]"
      ]
     },
     "execution_count": null,
     "metadata": {},
     "output_type": "execute_result"
    }
   ],
   "source": [
    "times = get_prof_data('test_func'); times"
   ]
  },
  {
   "cell_type": "markdown",
   "metadata": {},
   "source": [
    "If you can't add a decorator, you can start and end the recording manually and it will be added to the profile data"
   ]
  },
  {
   "cell_type": "code",
   "execution_count": null,
   "metadata": {},
   "outputs": [],
   "source": [
    "for i in range(10):\n",
    "    start_record('sleep')\n",
    "    time.sleep(1.)\n",
    "    end_record('sleep')"
   ]
  },
  {
   "cell_type": "markdown",
   "metadata": {},
   "source": [
    "As an alternative, the decorator can be invoked this way"
   ]
  },
  {
   "cell_type": "code",
   "execution_count": null,
   "metadata": {},
   "outputs": [],
   "source": [
    "sleep = profile_call(time.sleep)"
   ]
  },
  {
   "cell_type": "code",
   "execution_count": null,
   "metadata": {},
   "outputs": [],
   "source": [
    "for i in range(5):\n",
    "    sleep(i)"
   ]
  },
  {
   "cell_type": "markdown",
   "metadata": {},
   "source": [
    "You can also pass in an optional function name to replace the func name used in the profile data"
   ]
  },
  {
   "cell_type": "code",
   "execution_count": null,
   "metadata": {},
   "outputs": [],
   "source": [
    "sleep2 = profile_call(time.sleep, 'maluman')"
   ]
  },
  {
   "cell_type": "code",
   "execution_count": null,
   "metadata": {},
   "outputs": [],
   "source": [
    "for i in range(3): sleep2(1)"
   ]
  },
  {
   "cell_type": "markdown",
   "metadata": {},
   "source": [
    "If you call `print_prof_data` without any arguments, it will print all the timings for all the functions"
   ]
  },
  {
   "cell_type": "code",
   "execution_count": null,
   "metadata": {},
   "outputs": [
    {
     "name": "stdout",
     "output_type": "stream",
     "text": [
      "Function test_func called 10 times.\n",
      "Execution time max: 1.005, average: 1.004\n",
      "Function wachacha called 3 times.\n",
      "Execution time max: 1.005, average: 1.004\n",
      "Function sleep called 15 times.\n",
      "Execution time max: 4.005, average: 1.336\n",
      "Function maluman called 3 times.\n",
      "Execution time max: 1.004, average: 1.004\n"
     ]
    }
   ],
   "source": [
    "print_prof_data()"
   ]
  },
  {
   "cell_type": "markdown",
   "metadata": {},
   "source": [
    "You can also get the profile data for the manually recorded calls as well."
   ]
  },
  {
   "cell_type": "code",
   "execution_count": null,
   "metadata": {},
   "outputs": [],
   "source": [
    "times2 = get_prof_data('sleep')"
   ]
  },
  {
   "cell_type": "markdown",
   "metadata": {},
   "source": [
    "You can also save the profile data to a file"
   ]
  },
  {
   "cell_type": "code",
   "execution_count": null,
   "metadata": {},
   "outputs": [],
   "source": [
    "save_file = 'my_profile_data.pickle'"
   ]
  },
  {
   "cell_type": "code",
   "execution_count": null,
   "metadata": {},
   "outputs": [],
   "source": [
    "save_prof_data(save_file)"
   ]
  },
  {
   "cell_type": "markdown",
   "metadata": {},
   "source": [
    "Calling the `clear_prof_data` will clear out all the previously recorded timings."
   ]
  },
  {
   "cell_type": "code",
   "execution_count": null,
   "metadata": {},
   "outputs": [],
   "source": [
    "clear_prof_data()"
   ]
  },
  {
   "cell_type": "code",
   "execution_count": null,
   "metadata": {},
   "outputs": [],
   "source": [
    "print_prof_data()"
   ]
  },
  {
   "cell_type": "markdown",
   "metadata": {},
   "source": [
    "You can reload the profile data from a previously saved file"
   ]
  },
  {
   "cell_type": "code",
   "execution_count": null,
   "metadata": {},
   "outputs": [],
   "source": [
    "load_prof_data(save_file)"
   ]
  },
  {
   "cell_type": "code",
   "execution_count": null,
   "metadata": {},
   "outputs": [
    {
     "name": "stdout",
     "output_type": "stream",
     "text": [
      "Function test_func called 10 times.\n",
      "Execution time max: 1.005, average: 1.004\n",
      "Function wachacha called 3 times.\n",
      "Execution time max: 1.005, average: 1.004\n",
      "Function sleep called 15 times.\n",
      "Execution time max: 4.005, average: 1.336\n",
      "Function maluman called 3 times.\n",
      "Execution time max: 1.004, average: 1.004\n"
     ]
    }
   ],
   "source": [
    "print_prof_data()"
   ]
  },
  {
   "cell_type": "code",
   "execution_count": null,
   "metadata": {},
   "outputs": [],
   "source": [
    "#hide\n",
    "#local\n",
    "import pathlib\n",
    "pathlib.Path(save_file).unlink()"
   ]
  }
 ],
 "metadata": {
  "kernelspec": {
   "display_name": "Python 3",
   "language": "python",
   "name": "python3"
  }
 },
 "nbformat": 4,
 "nbformat_minor": 2
}
