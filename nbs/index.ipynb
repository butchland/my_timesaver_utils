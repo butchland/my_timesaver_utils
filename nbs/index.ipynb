{
 "cells": [
  {
   "cell_type": "code",
   "execution_count": null,
   "metadata": {},
   "outputs": [
    {
     "name": "stdout",
     "output_type": "stream",
     "text": [
      "/Users/butch/devt/workspaces/python3/fastai2_2020/experiments/my_timesaver_utils\n",
      "/Users/butch/devt/workspaces/python3/fastai2_2020/experiments/my_timesaver_utils/nbs\n"
     ]
    }
   ],
   "source": [
    "#hide\n",
    "%cd ..\n",
    "from my_timesaver_utils.all import *\n",
    "%cd nbs"
   ]
  },
  {
   "cell_type": "markdown",
   "metadata": {},
   "source": [
    "# My Timesaver utilities\n",
    "> A set of simple utilities I found useful to import "
   ]
  },
  {
   "cell_type": "markdown",
   "metadata": {},
   "source": [
    "This is the current list of functions\n",
    "\n",
    "* Profiling Utilities\n",
    "    * `@profile_call` - a function or method decorator to record execution times\n",
    "    * `print_prof_data(fname=None)` - prints out profile data for function `fname` or all functions if `fname` is None\n",
    "    * `clear_prof_data()` - clears out profile data\n",
    "    * `get_prof_data(fname)` - get exec times for `fname`\n",
    "    * `start_record(fname)` - start recording time for `fname` (alternative to decorator if function cannot decorated)\n",
    "    * `end_record(fname)` - stop recording and add elapsed time for `fname` \n",
    "    * `save_prof_data(file_name)` - save profile data to `file_name`\n",
    "    * `load_prof_data(file_name)` - load profile data from `file_name`\n",
    " "
   ]
  },
  {
   "cell_type": "markdown",
   "metadata": {},
   "source": [
    "## Install"
   ]
  },
  {
   "cell_type": "markdown",
   "metadata": {},
   "source": [
    "`pip install git+https://github.com/butchland/my_timesaver_utils.git`"
   ]
  },
  {
   "cell_type": "markdown",
   "metadata": {},
   "source": [
    "## How to use"
   ]
  },
  {
   "cell_type": "markdown",
   "metadata": {},
   "source": [
    "### Profiling Utils\n",
    "\n",
    "Import the utils -- You can either import all the utilities\n",
    "```\n",
    "from my_timesaver_utils import *\n",
    "```\n",
    "Or you can import only the profiling package\n",
    "```\n",
    "from my_timesaver_utils.profiling import *\n",
    "```"
   ]
  },
  {
   "cell_type": "markdown",
   "metadata": {},
   "source": [
    "Decorate method or function you want to profile"
   ]
  },
  {
   "cell_type": "code",
   "execution_count": null,
   "metadata": {},
   "outputs": [],
   "source": [
    "import time\n",
    "\n",
    "@profile_call\n",
    "def test_func(t=2.0):\n",
    "    time.sleep(t)\n",
    "    "
   ]
  },
  {
   "cell_type": "markdown",
   "metadata": {},
   "source": [
    "Call your method or function"
   ]
  },
  {
   "cell_type": "code",
   "execution_count": null,
   "metadata": {},
   "outputs": [],
   "source": [
    "for i in range(10):\n",
    "    test_func(i)"
   ]
  },
  {
   "cell_type": "markdown",
   "metadata": {},
   "source": [
    "Print your profile data"
   ]
  },
  {
   "cell_type": "code",
   "execution_count": null,
   "metadata": {},
   "outputs": [
    {
     "name": "stdout",
     "output_type": "stream",
     "text": [
      "Function test_func called 10 times.\n",
      "Execution time max: 9.005, average: 4.503\n"
     ]
    }
   ],
   "source": [
    "print_prof_data('test_func')"
   ]
  },
  {
   "cell_type": "markdown",
   "metadata": {},
   "source": [
    "Get your profile data (e.g. good for graphing)"
   ]
  },
  {
   "cell_type": "code",
   "execution_count": null,
   "metadata": {},
   "outputs": [
    {
     "data": {
      "text/plain": [
       "[8.821487426757812e-06,\n",
       " 1.00120210647583,\n",
       " 2.0050277709960938,\n",
       " 3.0002760887145996,\n",
       " 4.003054857254028,\n",
       " 5.001259088516235,\n",
       " 6.004206657409668,\n",
       " 7.004967927932739,\n",
       " 8.000512838363647,\n",
       " 9.00498104095459]"
      ]
     },
     "execution_count": null,
     "metadata": {},
     "output_type": "execute_result"
    }
   ],
   "source": [
    "times = get_prof_data('test_func'); times"
   ]
  },
  {
   "cell_type": "markdown",
   "metadata": {},
   "source": [
    "If you can't add a decorator, you can start and end the recording manually and it will be added to the profile data"
   ]
  },
  {
   "cell_type": "code",
   "execution_count": null,
   "metadata": {},
   "outputs": [],
   "source": [
    "for i in range(10):\n",
    "    start_record('sleep')\n",
    "    time.sleep(i)\n",
    "    end_record('sleep')"
   ]
  },
  {
   "cell_type": "markdown",
   "metadata": {},
   "source": [
    "As an alternative, the decorator can be invoked this way"
   ]
  },
  {
   "cell_type": "code",
   "execution_count": null,
   "metadata": {},
   "outputs": [],
   "source": [
    "sleep = profile_call(time.sleep)"
   ]
  },
  {
   "cell_type": "code",
   "execution_count": null,
   "metadata": {},
   "outputs": [],
   "source": [
    "for i in range(5):\n",
    "    sleep(i)"
   ]
  },
  {
   "cell_type": "markdown",
   "metadata": {},
   "source": [
    "If you call `print_prof_data` without any arguments, it will print all the timings for all the functions"
   ]
  },
  {
   "cell_type": "code",
   "execution_count": null,
   "metadata": {},
   "outputs": [
    {
     "name": "stdout",
     "output_type": "stream",
     "text": [
      "Function test_func called 10 times.\n",
      "Execution time max: 9.005, average: 4.503\n",
      "Function sleep called 15 times.\n",
      "Execution time max: 9.001, average: 3.669\n"
     ]
    }
   ],
   "source": [
    "print_prof_data()"
   ]
  },
  {
   "cell_type": "markdown",
   "metadata": {},
   "source": [
    "You can also get the profile data for the manually recorded calls as well."
   ]
  },
  {
   "cell_type": "code",
   "execution_count": null,
   "metadata": {},
   "outputs": [],
   "source": [
    "times2 = get_prof_data('sleep')"
   ]
  },
  {
   "cell_type": "markdown",
   "metadata": {},
   "source": [
    "You can also save the profile data to a file"
   ]
  },
  {
   "cell_type": "code",
   "execution_count": null,
   "metadata": {},
   "outputs": [],
   "source": [
    "save_file = 'my_profile_data.pickle'"
   ]
  },
  {
   "cell_type": "code",
   "execution_count": null,
   "metadata": {},
   "outputs": [],
   "source": [
    "save_prof_data(save_file)"
   ]
  },
  {
   "cell_type": "markdown",
   "metadata": {},
   "source": [
    "Calling the `clear_prof_data` will clear out all the previously recorded timings."
   ]
  },
  {
   "cell_type": "code",
   "execution_count": null,
   "metadata": {},
   "outputs": [],
   "source": [
    "clear_prof_data()"
   ]
  },
  {
   "cell_type": "code",
   "execution_count": null,
   "metadata": {},
   "outputs": [],
   "source": [
    "print_prof_data()"
   ]
  },
  {
   "cell_type": "markdown",
   "metadata": {},
   "source": [
    "You can reload the profile data from a previously saved file"
   ]
  },
  {
   "cell_type": "code",
   "execution_count": null,
   "metadata": {},
   "outputs": [],
   "source": [
    "load_prof_data(save_file)"
   ]
  },
  {
   "cell_type": "code",
   "execution_count": null,
   "metadata": {},
   "outputs": [
    {
     "name": "stdout",
     "output_type": "stream",
     "text": [
      "Function test_func called 10 times.\n",
      "Execution time max: 9.005, average: 4.503\n",
      "Function sleep called 15 times.\n",
      "Execution time max: 9.001, average: 3.669\n"
     ]
    }
   ],
   "source": [
    "print_prof_data()"
   ]
  },
  {
   "cell_type": "code",
   "execution_count": null,
   "metadata": {},
   "outputs": [],
   "source": [
    "#hide\n",
    "#local\n",
    "import pathlib\n",
    "pathlib.Path(save_file).unlink()"
   ]
  }
 ],
 "metadata": {
  "kernelspec": {
   "display_name": "Python 3",
   "language": "python",
   "name": "python3"
  }
 },
 "nbformat": 4,
 "nbformat_minor": 2
}
