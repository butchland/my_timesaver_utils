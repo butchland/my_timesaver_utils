{
 "cells": [
  {
   "cell_type": "code",
   "execution_count": null,
   "metadata": {},
   "outputs": [],
   "source": [
    "#hide\n",
    "%cd ..\n",
    "from my_timesaver_utils.all import *\n",
    "%cd nbs"
   ]
  },
  {
   "cell_type": "markdown",
   "metadata": {},
   "source": [
    "# My Timesaver utilities\n",
    "> A set of simple utilities I found useful to import "
   ]
  },
  {
   "cell_type": "markdown",
   "metadata": {},
   "source": [
    "This is the current list of functions\n",
    "\n",
    "* Profiling Utilities\n",
    "    * `@profile_call` - a function or method decorator to record execution times\n",
    "    * `print_prof_data(fname=None)` - prints out profile data for function `fname` or all functions if `fname` is None\n",
    "    * `clear_prof_data()` - clears out profile data\n",
    "    * `get_prof_data(fname)` - get exec times for `fname`\n",
    "    * `start_record(fname)` - start recording time for `fname` (alternative to decorator if function cannot decorated)\n",
    "    * `end_record(fname)` - stop recording and add elapsed time for `fname` \n",
    " "
   ]
  },
  {
   "cell_type": "markdown",
   "metadata": {},
   "source": [
    "## Install"
   ]
  },
  {
   "cell_type": "markdown",
   "metadata": {},
   "source": [
    "`pip install git+https://github.com/butchland/my_timesaver_utils.git`"
   ]
  },
  {
   "cell_type": "markdown",
   "metadata": {},
   "source": [
    "## How to use"
   ]
  },
  {
   "cell_type": "markdown",
   "metadata": {},
   "source": [
    "### Profiling Utils\n",
    "\n",
    "Import the utils -- You can either import all the utilities\n",
    "```\n",
    "from my_timesaver_utils import *\n",
    "```\n",
    "Or you can import only the profiling package\n",
    "```\n",
    "from my_timesaver_utils.profiling import *\n",
    "```"
   ]
  },
  {
   "cell_type": "markdown",
   "metadata": {},
   "source": [
    "Decorate method or function you want to profile"
   ]
  },
  {
   "cell_type": "code",
   "execution_count": null,
   "metadata": {},
   "outputs": [],
   "source": [
    "import time\n",
    "\n",
    "@profile_call\n",
    "def test_func(t=2.0):\n",
    "    time.sleep(t)\n",
    "    "
   ]
  },
  {
   "cell_type": "markdown",
   "metadata": {},
   "source": [
    "Call your method or function"
   ]
  },
  {
   "cell_type": "code",
   "execution_count": null,
   "metadata": {},
   "outputs": [],
   "source": [
    "for i in range(10):\n",
    "    test_func(i)"
   ]
  },
  {
   "cell_type": "markdown",
   "metadata": {},
   "source": [
    "Print your profile data"
   ]
  },
  {
   "cell_type": "code",
   "execution_count": null,
   "metadata": {},
   "outputs": [
    {
     "name": "stdout",
     "output_type": "stream",
     "text": [
      "Function test_func called 10 times.\n",
      "Execution time max: 9.005, average: 4.504\n"
     ]
    }
   ],
   "source": [
    "print_prof_data('test_func')"
   ]
  },
  {
   "cell_type": "markdown",
   "metadata": {},
   "source": [
    "Get your profile data (e.g. good for graphing)"
   ]
  },
  {
   "cell_type": "code",
   "execution_count": null,
   "metadata": {},
   "outputs": [
    {
     "data": {
      "text/plain": [
       "[1.0967254638671875e-05,\n",
       " 1.005072832107544,\n",
       " 2.0050249099731445,\n",
       " 3.0050220489501953,\n",
       " 4.0050060749053955,\n",
       " 5.003612995147705,\n",
       " 6.004514932632446,\n",
       " 7.004956960678101,\n",
       " 8.004937887191772,\n",
       " 9.004918098449707]"
      ]
     },
     "execution_count": null,
     "metadata": {},
     "output_type": "execute_result"
    }
   ],
   "source": [
    "times = get_prof_data('test_func'); times"
   ]
  },
  {
   "cell_type": "markdown",
   "metadata": {},
   "source": [
    "If you can't add a decorator, you can start and end the recording manually and it will be added to the profile data"
   ]
  },
  {
   "cell_type": "code",
   "execution_count": null,
   "metadata": {},
   "outputs": [],
   "source": [
    "for i in range(10):\n",
    "    start_record('sleep')\n",
    "    time.sleep(i)\n",
    "    end_record('sleep')"
   ]
  },
  {
   "cell_type": "markdown",
   "metadata": {},
   "source": [
    "If you call `print_prof_data` without any arguments, it will print all the timings for all the functions"
   ]
  },
  {
   "cell_type": "code",
   "execution_count": null,
   "metadata": {},
   "outputs": [
    {
     "name": "stdout",
     "output_type": "stream",
     "text": [
      "Function test_func called 10 times.\n",
      "Execution time max: 9.005, average: 4.504\n",
      "Function sleep called 10 times.\n",
      "Execution time max: 9.005, average: 4.504\n"
     ]
    }
   ],
   "source": [
    "print_prof_data()"
   ]
  },
  {
   "cell_type": "markdown",
   "metadata": {},
   "source": [
    "You can also get the profile data for the manually recorded calls as well."
   ]
  },
  {
   "cell_type": "code",
   "execution_count": null,
   "metadata": {},
   "outputs": [],
   "source": [
    "times2 = get_prof_data('sleep')"
   ]
  },
  {
   "cell_type": "markdown",
   "metadata": {},
   "source": [
    "Calling the `clear_prof_data` will clear out all the previously recorded timings."
   ]
  },
  {
   "cell_type": "code",
   "execution_count": null,
   "metadata": {},
   "outputs": [],
   "source": [
    "clear_prof_data()"
   ]
  },
  {
   "cell_type": "code",
   "execution_count": null,
   "metadata": {},
   "outputs": [],
   "source": [
    "print_prof_data()"
   ]
  }
 ],
 "metadata": {
  "kernelspec": {
   "display_name": "Python 3",
   "language": "python",
   "name": "python3"
  }
 },
 "nbformat": 4,
 "nbformat_minor": 2
}
