{
 "cells": [
  {
   "cell_type": "code",
   "execution_count": null,
   "metadata": {},
   "outputs": [],
   "source": [
    "# default_exp profiling_callback"
   ]
  },
  {
   "cell_type": "code",
   "execution_count": null,
   "metadata": {},
   "outputs": [],
   "source": [
    "#hide\n",
    "#ci\n",
    "!pip install -U fastai --upgrade"
   ]
  },
  {
   "cell_type": "code",
   "execution_count": null,
   "metadata": {},
   "outputs": [
    {
     "name": "stdout",
     "output_type": "stream",
     "text": [
      "/Users/butch/devt/workspaces/python3/fastai2_2020/experiments/my_timesaver_utils\n",
      "/Users/butch/devt/workspaces/python3/fastai2_2020/experiments/my_timesaver_utils/nbs\n"
     ]
    }
   ],
   "source": [
    "#hide\n",
    "#local\n",
    "%cd ..\n",
    "from my_timesaver_utils.profiling import *\n",
    "%cd nbs"
   ]
  },
  {
   "cell_type": "markdown",
   "metadata": {},
   "source": [
    "# Profiling Callback\n",
    "\n",
    "> applying profiling to the fastai learner callback functions\n",
    "> enables profiling of fastai model training"
   ]
  },
  {
   "cell_type": "code",
   "execution_count": null,
   "metadata": {},
   "outputs": [],
   "source": [
    "#hide\n",
    "#local\n",
    "%reload_ext autoreload\n",
    "%autoreload 2\n",
    "%matplotlib inline"
   ]
  },
  {
   "cell_type": "code",
   "execution_count": null,
   "metadata": {},
   "outputs": [],
   "source": [
    "#export\n",
    "from my_timesaver_utils.profiling import *"
   ]
  },
  {
   "cell_type": "code",
   "execution_count": null,
   "metadata": {},
   "outputs": [],
   "source": [
    "#export\n",
    "import warnings\n",
    "FASTAI_AVAILABLE = True\n",
    "try:\n",
    "    from fastai.callback.core import Callback\n",
    "    from fastai.learner import Learner\n",
    "    from fastcore.foundation import patch\n",
    "except ImportError as e:\n",
    "    FASTAI_AVAILABLE = False\n",
    "    warnings.warn('fastai package not installed, callback simulated')"
   ]
  },
  {
   "cell_type": "code",
   "execution_count": null,
   "metadata": {},
   "outputs": [],
   "source": [
    "#export\n",
    "if not FASTAI_AVAILABLE:\n",
    "    class Callback:\n",
    "        pass\n",
    "    class Learner:\n",
    "        pass\n",
    "    def patch(fn, *args,**kwargs):\n",
    "        return fn"
   ]
  },
  {
   "cell_type": "markdown",
   "metadata": {},
   "source": [
    "**FastAI Training Event Lifecycle Methods**\n",
    "```\n",
    "begin_fit\n",
    "      begin_epoch\n",
    "            begin_train\n",
    "                     begin_batch\n",
    "                           after_pred\n",
    "                           after_loss\n",
    "                           after_backward\n",
    "                           after_step\n",
    "                    after_cancel_batch\n",
    "                    after_batch            \n",
    "            after_train\n",
    "            after_cancel_train\n",
    "            begin_validate\n",
    "                    begin_batch\n",
    "                           after_pred\n",
    "                           after_loss\n",
    "                           after_backward\n",
    "                           after_step\n",
    "                    after_cancel_batch\n",
    "                    after_batch\n",
    "                    \n",
    "\t     after_cancel_validate\n",
    "             after_validate\n",
    "             \n",
    "      after_epoch\n",
    "after_cancel_fit       \n",
    "after_fit\n",
    "\n",
    "```"
   ]
  },
  {
   "cell_type": "code",
   "execution_count": null,
   "metadata": {},
   "outputs": [],
   "source": [
    "#exporti\n",
    "def _print_stat(func_name, level, data, indent_per_level=3):\n",
    "    indent = ' ' * indent_per_level * level\n",
    "    if data is None:\n",
    "        print(f'{indent}{func_name} has no data')\n",
    "        return\n",
    "    max_time = max(data)\n",
    "    avg_time = sum(data) / len(data)\n",
    "    print(f'{indent}{func_name}  called {len(data)} times. max: {max_time:.3f} avg: {avg_time:.3f}')"
   ]
  },
  {
   "cell_type": "code",
   "execution_count": null,
   "metadata": {},
   "outputs": [],
   "source": [
    "#export\n",
    "class MyProfileCallback(Callback):\n",
    "    'Callback to profile training lifecycle event performance'\n",
    "    ordered_callbacks = (\n",
    "        ('fit',0),\n",
    "        ('epoch',1),\n",
    "        ('train',2),\n",
    "        ('train_batch',3),\n",
    "        ('train_pred',4),\n",
    "        ('train_loss',4),\n",
    "        ('train_backward',4),\n",
    "        ('train_step',4),\n",
    "        ('train_zero_grad',4),\n",
    "        ('valid',2),\n",
    "        ('valid_batch',3),\n",
    "        ('valid_pred',4),\n",
    "        ('valid_loss',4)\n",
    "    )\n",
    "    def __init__(self, reset=False):\n",
    "        self._reset = reset\n",
    "\n",
    "    def before_fit(self):\n",
    "        if self._reset:\n",
    "            self.clear_stats()\n",
    "        start_record('fit')\n",
    "\n",
    "    def before_epoch(self):\n",
    "        start_record('epoch')\n",
    "\n",
    "    def before_train(self):\n",
    "        start_record('train')\n",
    "\n",
    "    def before_batch(self):\n",
    "        if self.learn.training:\n",
    "            start_record('train_batch')\n",
    "            start_record('train_pred')\n",
    "        else:\n",
    "            start_record('valid_batch')\n",
    "            start_record('valid_pred')\n",
    "\n",
    "    def after_pred(self):\n",
    "        if self.learn.training:\n",
    "            end_record('train_pred')\n",
    "            if len(self.learn.yb) > 0:\n",
    "                start_record('train_loss')\n",
    "        else:\n",
    "            end_record('valid_pred')\n",
    "            if len(self.learn.yb) > 0:\n",
    "                start_record('valid_loss')\n",
    "\n",
    "    def after_loss(self):\n",
    "        if self.learn.training:\n",
    "            end_record('train_loss')\n",
    "            start_record('train_backward')\n",
    "        else:\n",
    "            end_record('valid_loss')\n",
    "            # no start train_backward because\n",
    "            # valid doesnt execute backward\n",
    "\n",
    "    def after_backward(self):\n",
    "        end_record('train_backward')\n",
    "        start_record('train_step')\n",
    "\n",
    "    def after_step(self):\n",
    "        end_record('train_step')\n",
    "        start_record('train_zero_grad')\n",
    "\n",
    "    def after_cancel_batch(self):\n",
    "        if self.learn.training:\n",
    "            if is_recording('train_pred'):\n",
    "                end_record('train_pred')\n",
    "\n",
    "            if is_recording('train_loss'):\n",
    "                end_record('train_loss')\n",
    "\n",
    "            if is_recording('train_backward'):\n",
    "                end_record('train_backward')\n",
    "\n",
    "            if is_recording('train_step'):\n",
    "                end_record('train_step')\n",
    "\n",
    "            if is_recording('train_zero_grad'):\n",
    "                end_record('train_zero_grad')\n",
    "        else:\n",
    "            if is_recording('valid_pred'):\n",
    "                end_record('valid_pred')\n",
    "\n",
    "            if is_recording('valid_loss'):\n",
    "                end_record('valid_loss')\n",
    "\n",
    "            # no more steps after valid_loss\n",
    "\n",
    "    def after_batch(self):\n",
    "        if self.learn.training:\n",
    "            if is_recording('train_zero_grad'):\n",
    "                end_record('train_zero_grad')\n",
    "            end_record('train_batch')\n",
    "        else:\n",
    "            end_record('valid_batch')\n",
    "\n",
    "    def after_train(self):\n",
    "        end_record('train')\n",
    "\n",
    "    def after_cancel_train(self):\n",
    "        if is_recording('train_pred'):\n",
    "            end_record('train_pred')\n",
    "\n",
    "        if is_recording('train_loss'):\n",
    "            end_record('train_loss')\n",
    "\n",
    "        if is_recording('train_backward'):\n",
    "            end_record('train_backward')\n",
    "\n",
    "        if is_recording('train_step'):\n",
    "            end_record('train_step')\n",
    "\n",
    "        if is_recording('train_zero_grad'):\n",
    "            end_record('train_zero_grad')\n",
    "\n",
    "    def before_validate(self):\n",
    "        start_record('valid')\n",
    "\n",
    "    def after_cancel_validate(self):\n",
    "        if is_recording('valid_pred'):\n",
    "            end_record('valid_pred')\n",
    "        if is_recording('valid_loss'):\n",
    "            end_record('valid_loss')\n",
    "\n",
    "    def after_validate(self):\n",
    "        end_record('valid')\n",
    "\n",
    "    def after_epoch(self):\n",
    "        end_record('epoch')\n",
    "\n",
    "    def after_cancel_fit(self):\n",
    "        if is_recording('epoch'):\n",
    "            end_record('epoch')\n",
    "\n",
    "        if is_recording('train'):\n",
    "            end_record('train')\n",
    "\n",
    "        if is_recording('train_batch'):\n",
    "            end_record('train_batch')\n",
    "\n",
    "        if is_recording('train_pred'):\n",
    "            end_record('train_pred')\n",
    "\n",
    "        if is_recording('train_loss'):\n",
    "            end_record('train_loss')\n",
    "\n",
    "        if is_recording('train_backward'):\n",
    "            end_record('train_backward')\n",
    "\n",
    "        if is_recording('train_step'):\n",
    "            end_record('train_step')\n",
    "\n",
    "        if is_recording('train_zero_grad'):\n",
    "            end_record('train_zero_grad')\n",
    "\n",
    "        if is_recording('valid'):\n",
    "            end_record('valid')\n",
    "\n",
    "        if is_recording('valid_batch'):\n",
    "            end_record('valid_batch')\n",
    "\n",
    "        if is_recording('valid_pred'):\n",
    "            end_record('valid_pred')\n",
    "\n",
    "        if is_recording('valid_loss'):\n",
    "            end_record('valid_loss')\n",
    "\n",
    "    def after_fit(self):\n",
    "        end_record('fit')\n",
    "\n",
    "    def print_stats(self, fname=None, indent_per_level=3):\n",
    "        if fname is not None:\n",
    "            matches = [(func_name,level) for (func_name,level) in self.ordered_callbacks if func_name == fname]\n",
    "            if len(matches) > 0:\n",
    "                func_name, level = matches[0]\n",
    "                data = get_prof_data(func_name)\n",
    "                _print_stat(func_name, level, data, indent_per_level=indent_per_level)\n",
    "            else:\n",
    "                _print_stat(func_name, 0, None, indent_per_level=indent_per_level)\n",
    "            return\n",
    "\n",
    "        for func_name,level in self.ordered_callbacks:\n",
    "            data = get_prof_data(func_name)\n",
    "            _print_stat(func_name, level, data, indent_per_level=indent_per_level)\n",
    "\n",
    "    def clear_stats(self, fname=None):\n",
    "        if fname is not None:\n",
    "            clear_prof_data(func_name)\n",
    "            return\n",
    "        for func_name,_ in self.ordered_callbacks:\n",
    "            clear_prof_data(func_name)\n",
    "\n",
    "    def get_stats(self,fname=None):\n",
    "        if fname is not None:\n",
    "            matches = [(func_name,level) for (func_name,level) in self.ordered_callbacks if func_name == fname]\n",
    "            if len(matches) > 0:\n",
    "                func_name, level = matches[0]\n",
    "                data = get_prof_data(func_name)\n",
    "            else:\n",
    "                func_name = fname\n",
    "                level = 0\n",
    "                data = []\n",
    "            return (func_name, level, data)\n",
    "        res = []\n",
    "        for func_name,level in self.ordered_callbacks:\n",
    "            data = get_prof_data(func_name)\n",
    "            res.append((func_name,level,data))\n",
    "        return res\n",
    "\n",
    "    @property\n",
    "    def reset(self):\n",
    "        return self._reset\n",
    "\n",
    "    @reset.setter\n",
    "    def reset(self,v):\n",
    "        self._reset = v"
   ]
  },
  {
   "cell_type": "code",
   "execution_count": null,
   "metadata": {},
   "outputs": [],
   "source": [
    "#export        \n",
    "@patch\n",
    "def to_my_profile(self:Learner, reset=False):\n",
    "    'Add my_profile callback to learner'\n",
    "    cb = MyProfileCallback(reset=reset)\n",
    "    if not getattr(self, cb.name, None):\n",
    "        self.add_cb(cb)\n",
    "    else:\n",
    "        self.my_profile.reset = reset\n",
    "    return self"
   ]
  },
  {
   "cell_type": "markdown",
   "metadata": {},
   "source": [
    "### Example Usage"
   ]
  },
  {
   "cell_type": "code",
   "execution_count": null,
   "metadata": {},
   "outputs": [],
   "source": [
    "from fastai.vision.all import *"
   ]
  },
  {
   "cell_type": "code",
   "execution_count": null,
   "metadata": {},
   "outputs": [],
   "source": [
    "path = untar_data(URLs.MNIST_TINY)"
   ]
  },
  {
   "cell_type": "code",
   "execution_count": null,
   "metadata": {},
   "outputs": [],
   "source": [
    "Path.BASE_PATH = path"
   ]
  },
  {
   "cell_type": "code",
   "execution_count": null,
   "metadata": {},
   "outputs": [],
   "source": [
    "datablock = DataBlock(\n",
    "    blocks=(ImageBlock,CategoryBlock),\n",
    "    get_items=get_image_files,\n",
    "    get_y=parent_label,\n",
    "    splitter=GrandparentSplitter(),\n",
    "    item_tfms=Resize(28),\n",
    "    batch_tfms=[]\n",
    ")"
   ]
  },
  {
   "cell_type": "code",
   "execution_count": null,
   "metadata": {},
   "outputs": [],
   "source": [
    "dls = datablock.dataloaders(path)"
   ]
  },
  {
   "cell_type": "code",
   "execution_count": null,
   "metadata": {},
   "outputs": [],
   "source": [
    "learner = cnn_learner(dls,resnet18,metrics=accuracy)"
   ]
  },
  {
   "cell_type": "code",
   "execution_count": null,
   "metadata": {},
   "outputs": [
    {
     "data": {
      "text/plain": [
       "<fastai.learner.Learner at 0x130955f90>"
      ]
     },
     "execution_count": null,
     "metadata": {},
     "output_type": "execute_result"
    }
   ],
   "source": [
    "learner.to_my_profile()"
   ]
  },
  {
   "cell_type": "code",
   "execution_count": null,
   "metadata": {},
   "outputs": [
    {
     "data": {
      "text/plain": [
       "Sequential (Input shape: ['64 x 3 x 28 x 28'])\n",
       "================================================================\n",
       "Layer (type)         Output Shape         Param #    Trainable \n",
       "================================================================\n",
       "Conv2d               64 x 64 x 14 x 14    9,408      False     \n",
       "________________________________________________________________\n",
       "BatchNorm2d          64 x 64 x 14 x 14    128        True      \n",
       "________________________________________________________________\n",
       "ReLU                 64 x 64 x 14 x 14    0          False     \n",
       "________________________________________________________________\n",
       "MaxPool2d            64 x 64 x 7 x 7      0          False     \n",
       "________________________________________________________________\n",
       "Conv2d               64 x 64 x 7 x 7      36,864     False     \n",
       "________________________________________________________________\n",
       "BatchNorm2d          64 x 64 x 7 x 7      128        True      \n",
       "________________________________________________________________\n",
       "ReLU                 64 x 64 x 7 x 7      0          False     \n",
       "________________________________________________________________\n",
       "Conv2d               64 x 64 x 7 x 7      36,864     False     \n",
       "________________________________________________________________\n",
       "BatchNorm2d          64 x 64 x 7 x 7      128        True      \n",
       "________________________________________________________________\n",
       "Conv2d               64 x 64 x 7 x 7      36,864     False     \n",
       "________________________________________________________________\n",
       "BatchNorm2d          64 x 64 x 7 x 7      128        True      \n",
       "________________________________________________________________\n",
       "ReLU                 64 x 64 x 7 x 7      0          False     \n",
       "________________________________________________________________\n",
       "Conv2d               64 x 64 x 7 x 7      36,864     False     \n",
       "________________________________________________________________\n",
       "BatchNorm2d          64 x 64 x 7 x 7      128        True      \n",
       "________________________________________________________________\n",
       "Conv2d               64 x 128 x 4 x 4     73,728     False     \n",
       "________________________________________________________________\n",
       "BatchNorm2d          64 x 128 x 4 x 4     256        True      \n",
       "________________________________________________________________\n",
       "ReLU                 64 x 128 x 4 x 4     0          False     \n",
       "________________________________________________________________\n",
       "Conv2d               64 x 128 x 4 x 4     147,456    False     \n",
       "________________________________________________________________\n",
       "BatchNorm2d          64 x 128 x 4 x 4     256        True      \n",
       "________________________________________________________________\n",
       "Conv2d               64 x 128 x 4 x 4     8,192      False     \n",
       "________________________________________________________________\n",
       "BatchNorm2d          64 x 128 x 4 x 4     256        True      \n",
       "________________________________________________________________\n",
       "Conv2d               64 x 128 x 4 x 4     147,456    False     \n",
       "________________________________________________________________\n",
       "BatchNorm2d          64 x 128 x 4 x 4     256        True      \n",
       "________________________________________________________________\n",
       "ReLU                 64 x 128 x 4 x 4     0          False     \n",
       "________________________________________________________________\n",
       "Conv2d               64 x 128 x 4 x 4     147,456    False     \n",
       "________________________________________________________________\n",
       "BatchNorm2d          64 x 128 x 4 x 4     256        True      \n",
       "________________________________________________________________\n",
       "Conv2d               64 x 256 x 2 x 2     294,912    False     \n",
       "________________________________________________________________\n",
       "BatchNorm2d          64 x 256 x 2 x 2     512        True      \n",
       "________________________________________________________________\n",
       "ReLU                 64 x 256 x 2 x 2     0          False     \n",
       "________________________________________________________________\n",
       "Conv2d               64 x 256 x 2 x 2     589,824    False     \n",
       "________________________________________________________________\n",
       "BatchNorm2d          64 x 256 x 2 x 2     512        True      \n",
       "________________________________________________________________\n",
       "Conv2d               64 x 256 x 2 x 2     32,768     False     \n",
       "________________________________________________________________\n",
       "BatchNorm2d          64 x 256 x 2 x 2     512        True      \n",
       "________________________________________________________________\n",
       "Conv2d               64 x 256 x 2 x 2     589,824    False     \n",
       "________________________________________________________________\n",
       "BatchNorm2d          64 x 256 x 2 x 2     512        True      \n",
       "________________________________________________________________\n",
       "ReLU                 64 x 256 x 2 x 2     0          False     \n",
       "________________________________________________________________\n",
       "Conv2d               64 x 256 x 2 x 2     589,824    False     \n",
       "________________________________________________________________\n",
       "BatchNorm2d          64 x 256 x 2 x 2     512        True      \n",
       "________________________________________________________________\n",
       "Conv2d               64 x 512 x 1 x 1     1,179,648  False     \n",
       "________________________________________________________________\n",
       "BatchNorm2d          64 x 512 x 1 x 1     1,024      True      \n",
       "________________________________________________________________\n",
       "ReLU                 64 x 512 x 1 x 1     0          False     \n",
       "________________________________________________________________\n",
       "Conv2d               64 x 512 x 1 x 1     2,359,296  False     \n",
       "________________________________________________________________\n",
       "BatchNorm2d          64 x 512 x 1 x 1     1,024      True      \n",
       "________________________________________________________________\n",
       "Conv2d               64 x 512 x 1 x 1     131,072    False     \n",
       "________________________________________________________________\n",
       "BatchNorm2d          64 x 512 x 1 x 1     1,024      True      \n",
       "________________________________________________________________\n",
       "Conv2d               64 x 512 x 1 x 1     2,359,296  False     \n",
       "________________________________________________________________\n",
       "BatchNorm2d          64 x 512 x 1 x 1     1,024      True      \n",
       "________________________________________________________________\n",
       "ReLU                 64 x 512 x 1 x 1     0          False     \n",
       "________________________________________________________________\n",
       "Conv2d               64 x 512 x 1 x 1     2,359,296  False     \n",
       "________________________________________________________________\n",
       "BatchNorm2d          64 x 512 x 1 x 1     1,024      True      \n",
       "________________________________________________________________\n",
       "AdaptiveAvgPool2d    64 x 512 x 1 x 1     0          False     \n",
       "________________________________________________________________\n",
       "AdaptiveMaxPool2d    64 x 512 x 1 x 1     0          False     \n",
       "________________________________________________________________\n",
       "Flatten              64 x 1024            0          False     \n",
       "________________________________________________________________\n",
       "BatchNorm1d          64 x 1024            2,048      True      \n",
       "________________________________________________________________\n",
       "Dropout              64 x 1024            0          False     \n",
       "________________________________________________________________\n",
       "Linear               64 x 512             524,288    True      \n",
       "________________________________________________________________\n",
       "ReLU                 64 x 512             0          False     \n",
       "________________________________________________________________\n",
       "BatchNorm1d          64 x 512             1,024      True      \n",
       "________________________________________________________________\n",
       "Dropout              64 x 512             0          False     \n",
       "________________________________________________________________\n",
       "Linear               64 x 2               1,024      True      \n",
       "________________________________________________________________\n",
       "\n",
       "Total params: 11,704,896\n",
       "Total trainable params: 537,984\n",
       "Total non-trainable params: 11,166,912\n",
       "\n",
       "Optimizer used: <function Adam at 0x12fe710e0>\n",
       "Loss function: FlattenedLoss of CrossEntropyLoss()\n",
       "\n",
       "Model frozen up to parameter group number 2\n",
       "\n",
       "Callbacks:\n",
       "  - TrainEvalCallback\n",
       "  - Recorder\n",
       "  - ProgressCallback\n",
       "  - MyProfileCallback"
      ]
     },
     "execution_count": null,
     "metadata": {},
     "output_type": "execute_result"
    }
   ],
   "source": [
    "learner.summary()"
   ]
  },
  {
   "cell_type": "code",
   "execution_count": null,
   "metadata": {},
   "outputs": [
    {
     "data": {
      "text/plain": [
       "MyProfileCallback"
      ]
     },
     "execution_count": null,
     "metadata": {},
     "output_type": "execute_result"
    }
   ],
   "source": [
    "learner.my_profile"
   ]
  },
  {
   "cell_type": "code",
   "execution_count": null,
   "metadata": {},
   "outputs": [
    {
     "name": "stdout",
     "output_type": "stream",
     "text": [
      "fit has no data\n",
      "   epoch has no data\n",
      "      train has no data\n",
      "         train_batch has no data\n",
      "            train_pred has no data\n",
      "            train_loss has no data\n",
      "            train_backward has no data\n",
      "            train_step has no data\n",
      "            train_zero_grad has no data\n",
      "      valid has no data\n",
      "         valid_batch has no data\n",
      "            valid_pred has no data\n",
      "            valid_loss has no data\n"
     ]
    }
   ],
   "source": [
    "learner.my_profile.print_stats()"
   ]
  },
  {
   "cell_type": "code",
   "execution_count": null,
   "metadata": {},
   "outputs": [
    {
     "data": {
      "text/html": [
       "<table border=\"1\" class=\"dataframe\">\n",
       "  <thead>\n",
       "    <tr style=\"text-align: left;\">\n",
       "      <th>epoch</th>\n",
       "      <th>train_loss</th>\n",
       "      <th>valid_loss</th>\n",
       "      <th>accuracy</th>\n",
       "      <th>time</th>\n",
       "    </tr>\n",
       "  </thead>\n",
       "  <tbody>\n",
       "    <tr>\n",
       "      <td>0</td>\n",
       "      <td>0.646651</td>\n",
       "      <td>0.224889</td>\n",
       "      <td>0.909871</td>\n",
       "      <td>00:14</td>\n",
       "    </tr>\n",
       "  </tbody>\n",
       "</table>"
      ],
      "text/plain": [
       "<IPython.core.display.HTML object>"
      ]
     },
     "metadata": {},
     "output_type": "display_data"
    }
   ],
   "source": [
    "learner.fit(1)"
   ]
  },
  {
   "cell_type": "code",
   "execution_count": null,
   "metadata": {},
   "outputs": [
    {
     "name": "stdout",
     "output_type": "stream",
     "text": [
      "fit  called 1 times. max: 14.688 avg: 14.688\n",
      "   epoch  called 1 times. max: 14.678 avg: 14.678\n",
      "      train  called 1 times. max: 12.425 avg: 12.425\n",
      "         train_batch  called 11 times. max: 1.170 avg: 1.081\n",
      "            train_pred  called 11 times. max: 0.304 avg: 0.236\n",
      "            train_loss  called 11 times. max: 0.001 avg: 0.001\n",
      "            train_backward  called 11 times. max: 0.848 avg: 0.834\n",
      "            train_step  called 11 times. max: 0.011 avg: 0.008\n",
      "            train_zero_grad  called 11 times. max: 0.006 avg: 0.003\n",
      "      valid  called 1 times. max: 2.245 avg: 2.245\n",
      "         valid_batch  called 11 times. max: 0.195 avg: 0.181\n",
      "            valid_pred  called 11 times. max: 0.188 avg: 0.178\n",
      "            valid_loss  called 11 times. max: 0.001 avg: 0.001\n"
     ]
    }
   ],
   "source": [
    "learner.my_profile.print_stats()"
   ]
  },
  {
   "cell_type": "code",
   "execution_count": null,
   "metadata": {},
   "outputs": [
    {
     "data": {
      "text/plain": [
       "[('fit', 0, [14.687530994415283]),\n",
       " ('epoch', 1, [14.67847228050232]),\n",
       " ('train', 2, [12.425010204315186]),\n",
       " ('train_batch',\n",
       "  3,\n",
       "  [1.1697580814361572,\n",
       "   1.0837702751159668,\n",
       "   1.0729010105133057,\n",
       "   1.0813207626342773,\n",
       "   1.0650250911712646,\n",
       "   1.0707719326019287,\n",
       "   1.087137222290039,\n",
       "   1.0528171062469482,\n",
       "   1.0657010078430176,\n",
       "   1.0718588829040527,\n",
       "   1.0731070041656494]),\n",
       " ('train_pred',\n",
       "  4,\n",
       "  [0.3040790557861328,\n",
       "   0.23769092559814453,\n",
       "   0.2236030101776123,\n",
       "   0.23487424850463867,\n",
       "   0.22310113906860352,\n",
       "   0.22788310050964355,\n",
       "   0.23348093032836914,\n",
       "   0.23145484924316406,\n",
       "   0.21995902061462402,\n",
       "   0.22831082344055176,\n",
       "   0.2304689884185791]),\n",
       " ('train_loss',\n",
       "  4,\n",
       "  [0.0010890960693359375,\n",
       "   0.0006949901580810547,\n",
       "   0.0007219314575195312,\n",
       "   0.0006780624389648438,\n",
       "   0.0010340213775634766,\n",
       "   0.0007722377777099609,\n",
       "   0.0006699562072753906,\n",
       "   0.0006821155548095703,\n",
       "   0.0007212162017822266,\n",
       "   0.0006709098815917969,\n",
       "   0.0006799697875976562]),\n",
       " ('train_backward',\n",
       "  4,\n",
       "  [0.8481080532073975,\n",
       "   0.8349168300628662,\n",
       "   0.8384270668029785,\n",
       "   0.8354089260101318,\n",
       "   0.8305647373199463,\n",
       "   0.8319101333618164,\n",
       "   0.8415019512176514,\n",
       "   0.8106880187988281,\n",
       "   0.8350062370300293,\n",
       "   0.8329300880432129,\n",
       "   0.8316891193389893]),\n",
       " ('train_step',\n",
       "  4,\n",
       "  [0.01085805892944336,\n",
       "   0.007528781890869141,\n",
       "   0.007549762725830078,\n",
       "   0.007534980773925781,\n",
       "   0.007409095764160156,\n",
       "   0.007349967956542969,\n",
       "   0.009161949157714844,\n",
       "   0.007405996322631836,\n",
       "   0.007421016693115234,\n",
       "   0.007613182067871094,\n",
       "   0.007512092590332031]),\n",
       " ('train_zero_grad',\n",
       "  4,\n",
       "  [0.005597829818725586,\n",
       "   0.0029211044311523438,\n",
       "   0.002583026885986328,\n",
       "   0.002810239791870117,\n",
       "   0.002899169921875,\n",
       "   0.0028409957885742188,\n",
       "   0.0023050308227539062,\n",
       "   0.0025720596313476562,\n",
       "   0.0025682449340820312,\n",
       "   0.0023169517517089844,\n",
       "   0.0027413368225097656]),\n",
       " ('valid', 2, [2.2446630001068115]),\n",
       " ('valid_batch',\n",
       "  3,\n",
       "  [0.19499421119689941,\n",
       "   0.17691898345947266,\n",
       "   0.18032121658325195,\n",
       "   0.17589092254638672,\n",
       "   0.17492890357971191,\n",
       "   0.17957305908203125,\n",
       "   0.1777338981628418,\n",
       "   0.18741679191589355,\n",
       "   0.17940211296081543,\n",
       "   0.1895129680633545,\n",
       "   0.17221283912658691]),\n",
       " ('valid_pred',\n",
       "  4,\n",
       "  [0.18814992904663086,\n",
       "   0.17379498481750488,\n",
       "   0.17746996879577637,\n",
       "   0.17304277420043945,\n",
       "   0.17206573486328125,\n",
       "   0.17669415473937988,\n",
       "   0.17478203773498535,\n",
       "   0.18450498580932617,\n",
       "   0.17637085914611816,\n",
       "   0.1866168975830078,\n",
       "   0.16930532455444336]),\n",
       " ('valid_loss',\n",
       "  4,\n",
       "  [0.0013051033020019531,\n",
       "   0.0005512237548828125,\n",
       "   0.0005471706390380859,\n",
       "   0.0005497932434082031,\n",
       "   0.0005450248718261719,\n",
       "   0.0005440711975097656,\n",
       "   0.0005459785461425781,\n",
       "   0.0005478858947753906,\n",
       "   0.0005469322204589844,\n",
       "   0.0005431175231933594,\n",
       "   0.0005438327789306641])]"
      ]
     },
     "execution_count": null,
     "metadata": {},
     "output_type": "execute_result"
    }
   ],
   "source": [
    "fit_stats = learner.my_profile.get_stats();fit_stats"
   ]
  },
  {
   "cell_type": "code",
   "execution_count": null,
   "metadata": {},
   "outputs": [
    {
     "name": "stdout",
     "output_type": "stream",
     "text": [
      "         train_batch  called 11 times. max: 1.170 avg: 1.081\n"
     ]
    }
   ],
   "source": [
    "learner.my_profile.print_stats('train_batch')"
   ]
  },
  {
   "cell_type": "code",
   "execution_count": null,
   "metadata": {},
   "outputs": [
    {
     "data": {
      "text/plain": [
       "('train_batch',\n",
       " 3,\n",
       " [1.1697580814361572,\n",
       "  1.0837702751159668,\n",
       "  1.0729010105133057,\n",
       "  1.0813207626342773,\n",
       "  1.0650250911712646,\n",
       "  1.0707719326019287,\n",
       "  1.087137222290039,\n",
       "  1.0528171062469482,\n",
       "  1.0657010078430176,\n",
       "  1.0718588829040527,\n",
       "  1.0731070041656494])"
      ]
     },
     "execution_count": null,
     "metadata": {},
     "output_type": "execute_result"
    }
   ],
   "source": [
    "train_batch_stats = learner.my_profile.get_stats('train_batch'); train_batch_stats"
   ]
  },
  {
   "cell_type": "code",
   "execution_count": null,
   "metadata": {},
   "outputs": [],
   "source": [
    "learner.my_profile.clear_stats()"
   ]
  },
  {
   "cell_type": "code",
   "execution_count": null,
   "metadata": {},
   "outputs": [
    {
     "name": "stdout",
     "output_type": "stream",
     "text": [
      "fit has no data\n",
      "   epoch has no data\n",
      "      train has no data\n",
      "         train_batch has no data\n",
      "            train_pred has no data\n",
      "            train_loss has no data\n",
      "            train_backward has no data\n",
      "            train_step has no data\n",
      "            train_zero_grad has no data\n",
      "      valid has no data\n",
      "         valid_batch has no data\n",
      "            valid_pred has no data\n",
      "            valid_loss has no data\n"
     ]
    }
   ],
   "source": [
    "learner.my_profile.print_stats()"
   ]
  },
  {
   "cell_type": "code",
   "execution_count": null,
   "metadata": {},
   "outputs": [
    {
     "name": "stdout",
     "output_type": "stream",
     "text": [
      "      train has no data\n"
     ]
    }
   ],
   "source": [
    "learner.my_profile.print_stats('train')"
   ]
  },
  {
   "cell_type": "code",
   "execution_count": null,
   "metadata": {},
   "outputs": [
    {
     "data": {
      "text/html": [
       "<table border=\"1\" class=\"dataframe\">\n",
       "  <thead>\n",
       "    <tr style=\"text-align: left;\">\n",
       "      <th>epoch</th>\n",
       "      <th>train_loss</th>\n",
       "      <th>valid_loss</th>\n",
       "      <th>accuracy</th>\n",
       "      <th>time</th>\n",
       "    </tr>\n",
       "  </thead>\n",
       "  <tbody>\n",
       "    <tr>\n",
       "      <td>0</td>\n",
       "      <td>0.370858</td>\n",
       "      <td>0.235521</td>\n",
       "      <td>0.912732</td>\n",
       "      <td>00:14</td>\n",
       "    </tr>\n",
       "  </tbody>\n",
       "</table>"
      ],
      "text/plain": [
       "<IPython.core.display.HTML object>"
      ]
     },
     "metadata": {},
     "output_type": "display_data"
    },
    {
     "data": {
      "text/html": [
       "<table border=\"1\" class=\"dataframe\">\n",
       "  <thead>\n",
       "    <tr style=\"text-align: left;\">\n",
       "      <th>epoch</th>\n",
       "      <th>train_loss</th>\n",
       "      <th>valid_loss</th>\n",
       "      <th>accuracy</th>\n",
       "      <th>time</th>\n",
       "    </tr>\n",
       "  </thead>\n",
       "  <tbody>\n",
       "    <tr>\n",
       "      <td>0</td>\n",
       "      <td>0.231076</td>\n",
       "      <td>0.167055</td>\n",
       "      <td>0.939914</td>\n",
       "      <td>00:22</td>\n",
       "    </tr>\n",
       "  </tbody>\n",
       "</table>"
      ],
      "text/plain": [
       "<IPython.core.display.HTML object>"
      ]
     },
     "metadata": {},
     "output_type": "display_data"
    }
   ],
   "source": [
    "learner.fine_tune(1)"
   ]
  },
  {
   "cell_type": "code",
   "execution_count": null,
   "metadata": {},
   "outputs": [
    {
     "name": "stdout",
     "output_type": "stream",
     "text": [
      "fit  called 2 times. max: 22.034 avg: 18.256\n",
      "   epoch  called 2 times. max: 22.030 avg: 18.252\n",
      "      train  called 2 times. max: 19.765 avg: 16.002\n",
      "         train_batch  called 22 times. max: 2.025 avg: 1.429\n",
      "            train_pred  called 22 times. max: 0.302 avg: 0.232\n",
      "            train_loss  called 22 times. max: 0.001 avg: 0.001\n",
      "            train_backward  called 22 times. max: 1.520 avg: 1.132\n",
      "            train_step  called 22 times. max: 0.222 avg: 0.058\n",
      "            train_zero_grad  called 22 times. max: 0.011 avg: 0.005\n",
      "      valid  called 2 times. max: 2.258 avg: 2.244\n",
      "         valid_batch  called 22 times. max: 0.211 avg: 0.180\n",
      "            valid_pred  called 22 times. max: 0.204 avg: 0.177\n",
      "            valid_loss  called 22 times. max: 0.002 avg: 0.001\n"
     ]
    }
   ],
   "source": [
    "learner.my_profile.print_stats()"
   ]
  },
  {
   "cell_type": "code",
   "execution_count": null,
   "metadata": {},
   "outputs": [],
   "source": [
    "learner.my_profile.reset = True"
   ]
  },
  {
   "cell_type": "code",
   "execution_count": null,
   "metadata": {},
   "outputs": [
    {
     "data": {
      "text/html": [
       "<table border=\"1\" class=\"dataframe\">\n",
       "  <thead>\n",
       "    <tr style=\"text-align: left;\">\n",
       "      <th>epoch</th>\n",
       "      <th>train_loss</th>\n",
       "      <th>valid_loss</th>\n",
       "      <th>accuracy</th>\n",
       "      <th>time</th>\n",
       "    </tr>\n",
       "  </thead>\n",
       "  <tbody>\n",
       "    <tr>\n",
       "      <td>0</td>\n",
       "      <td>0.158287</td>\n",
       "      <td>0.196981</td>\n",
       "      <td>0.929900</td>\n",
       "      <td>00:16</td>\n",
       "    </tr>\n",
       "  </tbody>\n",
       "</table>"
      ],
      "text/plain": [
       "<IPython.core.display.HTML object>"
      ]
     },
     "metadata": {},
     "output_type": "display_data"
    },
    {
     "data": {
      "text/html": [
       "<table border=\"1\" class=\"dataframe\">\n",
       "  <thead>\n",
       "    <tr style=\"text-align: left;\">\n",
       "      <th>epoch</th>\n",
       "      <th>train_loss</th>\n",
       "      <th>valid_loss</th>\n",
       "      <th>accuracy</th>\n",
       "      <th>time</th>\n",
       "    </tr>\n",
       "  </thead>\n",
       "  <tbody>\n",
       "    <tr>\n",
       "      <td>0</td>\n",
       "      <td>0.090954</td>\n",
       "      <td>0.162717</td>\n",
       "      <td>0.944206</td>\n",
       "      <td>00:23</td>\n",
       "    </tr>\n",
       "  </tbody>\n",
       "</table>"
      ],
      "text/plain": [
       "<IPython.core.display.HTML object>"
      ]
     },
     "metadata": {},
     "output_type": "display_data"
    }
   ],
   "source": [
    "learner.fine_tune(1)"
   ]
  },
  {
   "cell_type": "code",
   "execution_count": null,
   "metadata": {},
   "outputs": [
    {
     "name": "stdout",
     "output_type": "stream",
     "text": [
      "fit  called 1 times. max: 23.094 avg: 23.094\n",
      "   epoch  called 1 times. max: 23.091 avg: 23.091\n",
      "      train  called 1 times. max: 20.766 avg: 20.766\n",
      "         train_batch  called 11 times. max: 2.104 avg: 1.863\n",
      "            train_pred  called 11 times. max: 0.265 avg: 0.231\n",
      "            train_loss  called 11 times. max: 0.001 avg: 0.001\n",
      "            train_backward  called 11 times. max: 1.648 avg: 1.519\n",
      "            train_step  called 11 times. max: 0.180 avg: 0.104\n",
      "            train_zero_grad  called 11 times. max: 0.011 avg: 0.008\n",
      "      valid  called 1 times. max: 2.318 avg: 2.318\n",
      "         valid_batch  called 11 times. max: 0.212 avg: 0.187\n",
      "            valid_pred  called 11 times. max: 0.209 avg: 0.183\n",
      "            valid_loss  called 11 times. max: 0.002 avg: 0.001\n"
     ]
    }
   ],
   "source": [
    "learner.my_profile.print_stats()"
   ]
  },
  {
   "cell_type": "code",
   "execution_count": null,
   "metadata": {},
   "outputs": [
    {
     "data": {
      "text/plain": [
       "True"
      ]
     },
     "execution_count": null,
     "metadata": {},
     "output_type": "execute_result"
    }
   ],
   "source": [
    "learner.my_profile.reset"
   ]
  }
 ],
 "metadata": {
  "kernelspec": {
   "display_name": "Python 3",
   "language": "python",
   "name": "python3"
  },
  "language_info": {
   "codemirror_mode": {
    "name": "ipython",
    "version": 3
   },
   "file_extension": ".py",
   "mimetype": "text/x-python",
   "name": "python",
   "nbconvert_exporter": "python",
   "pygments_lexer": "ipython3",
   "version": "3.7.7"
  },
  "varInspector": {
   "cols": {
    "lenName": 16,
    "lenType": 16,
    "lenVar": 40
   },
   "kernels_config": {
    "python": {
     "delete_cmd_postfix": "",
     "delete_cmd_prefix": "del ",
     "library": "var_list.py",
     "varRefreshCmd": "print(var_dic_list())"
    },
    "r": {
     "delete_cmd_postfix": ") ",
     "delete_cmd_prefix": "rm(",
     "library": "var_list.r",
     "varRefreshCmd": "cat(var_dic_list()) "
    }
   },
   "types_to_exclude": [
    "module",
    "function",
    "builtin_function_or_method",
    "instance",
    "_Feature"
   ],
   "window_display": false
  }
 },
 "nbformat": 4,
 "nbformat_minor": 2
}
