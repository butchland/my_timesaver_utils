{
 "cells": [
  {
   "cell_type": "code",
   "execution_count": null,
   "metadata": {},
   "outputs": [],
   "source": [
    "# default_exp profiling_callback"
   ]
  },
  {
   "cell_type": "code",
   "execution_count": null,
   "metadata": {},
   "outputs": [],
   "source": [
    "#hide\n",
    "#ci\n",
    "!pip install -Uqq fastai --upgrade"
   ]
  },
  {
   "cell_type": "code",
   "execution_count": null,
   "metadata": {},
   "outputs": [
    {
     "name": "stdout",
     "output_type": "stream",
     "text": [
      "/Users/butch/devt/workspaces/python3/fastai2_2020/portfolio-projects/my_timesaver_utils\n",
      "/Users/butch/devt/workspaces/python3/fastai2_2020/portfolio-projects/my_timesaver_utils/nbs\n"
     ]
    }
   ],
   "source": [
    "#hide\n",
    "#local\n",
    "%cd ..\n",
    "from my_timesaver_utils.profiling import *\n",
    "%cd nbs"
   ]
  },
  {
   "cell_type": "markdown",
   "metadata": {},
   "source": [
    "# Profiling Callback\n",
    "\n",
    "> applying profiling to the fastai learner callback functions\n",
    "> enables profiling of fastai model training"
   ]
  },
  {
   "cell_type": "code",
   "execution_count": null,
   "metadata": {},
   "outputs": [],
   "source": [
    "#hide\n",
    "#local\n",
    "%reload_ext autoreload\n",
    "%autoreload 2\n",
    "%matplotlib inline"
   ]
  },
  {
   "cell_type": "code",
   "execution_count": null,
   "metadata": {},
   "outputs": [],
   "source": [
    "#export\n",
    "from my_timesaver_utils.profiling import *"
   ]
  },
  {
   "cell_type": "code",
   "execution_count": null,
   "metadata": {},
   "outputs": [],
   "source": [
    "#export\n",
    "import warnings\n",
    "FASTAI_AVAILABLE = True\n",
    "try:\n",
    "    from fastai.callback.core import Callback\n",
    "    from fastai.learner import Learner\n",
    "    from fastcore.foundation import patch\n",
    "except ImportError as e:\n",
    "    FASTAI_AVAILABLE = False\n",
    "    warnings.warn('fastai package not installed, callback simulated')"
   ]
  },
  {
   "cell_type": "code",
   "execution_count": null,
   "metadata": {},
   "outputs": [],
   "source": [
    "#export\n",
    "if not FASTAI_AVAILABLE:\n",
    "    class Callback:\n",
    "        pass\n",
    "    class Learner:\n",
    "        pass\n",
    "    def patch(fn, *args,**kwargs):\n",
    "        return fn"
   ]
  },
  {
   "cell_type": "markdown",
   "metadata": {},
   "source": [
    "**FastAI Training Event Lifecycle Methods**\n",
    "```\n",
    "after_create\n",
    "\n",
    "before_fit\n",
    "      before_epoch\n",
    "            before_train\n",
    "                before_batch\n",
    "                    after_pred\n",
    "                    after_loss\n",
    "                    before_backward\n",
    "                    after_backward\n",
    "                    after_cancel_step\n",
    "                    after_step\n",
    "                    after_cancel_batch\n",
    "                after_batch \n",
    "            after_cancel_train                    \n",
    "            after_train\n",
    "            before_validate\n",
    "                before_batch\n",
    "                    after_pred\n",
    "                    after_loss\n",
    "                after_cancel_batch\n",
    "                after_batch\n",
    "            after_cancel_validate\n",
    "            after_validate\n",
    "      after_epoch\n",
    "after_cancel_fit       \n",
    "after_fit\n",
    "\n",
    "```"
   ]
  },
  {
   "cell_type": "code",
   "execution_count": null,
   "metadata": {},
   "outputs": [],
   "source": [
    "#exporti\n",
    "def _print_stat(func_name, level, data, indent_per_level=3):\n",
    "    indent = ' ' * indent_per_level * level\n",
    "    if data is None:\n",
    "        print(f'{indent}{func_name} has no data')\n",
    "        return\n",
    "    max_time = max(data)\n",
    "    avg_time = sum(data) / len(data)\n",
    "    print(f'{indent}{func_name}  called {len(data)} times. max: {max_time:.3f} avg: {avg_time:.3f}')"
   ]
  },
  {
   "cell_type": "code",
   "execution_count": null,
   "metadata": {},
   "outputs": [],
   "source": [
    "#export\n",
    "class MyProfileCallback(Callback):\n",
    "    'Callback to profile training lifecycle event performance'\n",
    "    order = -15 # should run before any callbacks\n",
    "    ordered_callbacks = (\n",
    "        ('fit',0),\n",
    "        ('epoch',1),\n",
    "        ('train',2),\n",
    "        ('train_batch',3),\n",
    "        ('train_pred',4),\n",
    "        ('train_loss',4),\n",
    "        ('train_backward',4),\n",
    "        ('train_step',4),\n",
    "        ('train_zero_grad',4),\n",
    "        ('valid',2),\n",
    "        ('valid_batch',3),\n",
    "        ('valid_pred',4),\n",
    "        ('valid_loss',4)\n",
    "    )\n",
    "    def __init__(self, reset=False):\n",
    "        self._reset = reset\n",
    "\n",
    "    def before_fit(self):\n",
    "        if self._reset:\n",
    "            self.clear_stats()\n",
    "        start_record('fit')\n",
    "\n",
    "    def before_epoch(self):\n",
    "        start_record('epoch')\n",
    "\n",
    "    def before_train(self):\n",
    "        start_record('train')\n",
    "\n",
    "    def before_batch(self):\n",
    "        if self.learn.training:\n",
    "            start_record('train_batch')\n",
    "            start_record('train_pred')\n",
    "        else:\n",
    "            start_record('valid_batch')\n",
    "            start_record('valid_pred')\n",
    "\n",
    "    def after_pred(self):\n",
    "        if self.learn.training:\n",
    "            end_record('train_pred')\n",
    "            if len(self.learn.yb) > 0:\n",
    "                start_record('train_loss')\n",
    "        else:\n",
    "            end_record('valid_pred')\n",
    "            if len(self.learn.yb) > 0:\n",
    "                start_record('valid_loss')\n",
    "\n",
    "    def after_loss(self):\n",
    "        if self.learn.training:\n",
    "            end_record('train_loss')\n",
    "            \n",
    "        else:\n",
    "            end_record('valid_loss')\n",
    "            # no start train_backward because\n",
    "            # valid doesnt execute backward\n",
    "            \n",
    "    def before_backward(self):\n",
    "        start_record('train_backward')\n",
    "        \n",
    "    def before_step(self):\n",
    "        end_record('train_backward')\n",
    "        start_record('train_step')\n",
    "        \n",
    "    def after_step(self):\n",
    "        end_record('train_step')\n",
    "        start_record('train_zero_grad')\n",
    "\n",
    "    def after_cancel_batch(self):\n",
    "        if self.learn.training:\n",
    "            if is_recording('train_pred'):\n",
    "                end_record('train_pred')\n",
    "\n",
    "            if is_recording('train_loss'):\n",
    "                end_record('train_loss')\n",
    "\n",
    "            if is_recording('train_backward'):\n",
    "                end_record('train_backward')\n",
    "\n",
    "            if is_recording('train_step'):\n",
    "                end_record('train_step')\n",
    "\n",
    "            if is_recording('train_zero_grad'):\n",
    "                end_record('train_zero_grad')\n",
    "        else:\n",
    "            if is_recording('valid_pred'):\n",
    "                end_record('valid_pred')\n",
    "\n",
    "            if is_recording('valid_loss'):\n",
    "                end_record('valid_loss')\n",
    "\n",
    "            # no more steps after valid_loss\n",
    "\n",
    "    def after_batch(self):\n",
    "        if self.learn.training:\n",
    "            if is_recording('train_zero_grad'):\n",
    "                end_record('train_zero_grad')\n",
    "            end_record('train_batch')\n",
    "        else:\n",
    "            end_record('valid_batch')\n",
    "\n",
    "    def after_train(self):\n",
    "        end_record('train')\n",
    "\n",
    "    def after_cancel_train(self):\n",
    "        if is_recording('train_pred'):\n",
    "            end_record('train_pred')\n",
    "\n",
    "        if is_recording('train_loss'):\n",
    "            end_record('train_loss')\n",
    "\n",
    "        if is_recording('train_backward'):\n",
    "            end_record('train_backward')\n",
    "\n",
    "        if is_recording('train_step'):\n",
    "            end_record('train_step')\n",
    "\n",
    "        if is_recording('train_zero_grad'):\n",
    "            end_record('train_zero_grad')\n",
    "\n",
    "    def before_validate(self):\n",
    "        start_record('valid')\n",
    "\n",
    "    def after_cancel_validate(self):\n",
    "        if is_recording('valid_pred'):\n",
    "            end_record('valid_pred')\n",
    "        if is_recording('valid_loss'):\n",
    "            end_record('valid_loss')\n",
    "\n",
    "    def after_validate(self):\n",
    "        end_record('valid')\n",
    "\n",
    "    def after_epoch(self):\n",
    "        end_record('epoch')\n",
    "\n",
    "    def after_cancel_fit(self):\n",
    "        if is_recording('epoch'):\n",
    "            end_record('epoch')\n",
    "\n",
    "        if is_recording('train'):\n",
    "            end_record('train')\n",
    "\n",
    "        if is_recording('train_batch'):\n",
    "            end_record('train_batch')\n",
    "\n",
    "        if is_recording('train_pred'):\n",
    "            end_record('train_pred')\n",
    "\n",
    "        if is_recording('train_loss'):\n",
    "            end_record('train_loss')\n",
    "\n",
    "        if is_recording('train_backward'):\n",
    "            end_record('train_backward')\n",
    "\n",
    "        if is_recording('train_step'):\n",
    "            end_record('train_step')\n",
    "\n",
    "        if is_recording('train_zero_grad'):\n",
    "            end_record('train_zero_grad')\n",
    "\n",
    "        if is_recording('valid'):\n",
    "            end_record('valid')\n",
    "\n",
    "        if is_recording('valid_batch'):\n",
    "            end_record('valid_batch')\n",
    "\n",
    "        if is_recording('valid_pred'):\n",
    "            end_record('valid_pred')\n",
    "\n",
    "        if is_recording('valid_loss'):\n",
    "            end_record('valid_loss')\n",
    "\n",
    "    def after_fit(self):\n",
    "        end_record('fit')\n",
    "\n",
    "    def print_stats(self, fname=None, indent_per_level=3):\n",
    "        if fname is not None:\n",
    "            matches = [(func_name,level) for (func_name,level) in self.ordered_callbacks if func_name == fname]\n",
    "            if len(matches) > 0:\n",
    "                func_name, level = matches[0]\n",
    "                data = get_prof_data(func_name)\n",
    "                _print_stat(func_name, level, data, indent_per_level=indent_per_level)\n",
    "            else:\n",
    "                _print_stat(func_name, 0, None, indent_per_level=indent_per_level)\n",
    "            return\n",
    "\n",
    "        for func_name,level in self.ordered_callbacks:\n",
    "            data = get_prof_data(func_name)\n",
    "            _print_stat(func_name, level, data, indent_per_level=indent_per_level)\n",
    "\n",
    "    def clear_stats(self, fname=None):\n",
    "        if fname is not None:\n",
    "            clear_prof_data(func_name)\n",
    "            return\n",
    "        for func_name,_ in self.ordered_callbacks:\n",
    "            clear_prof_data(func_name)\n",
    "\n",
    "    def get_stats(self,fname=None):\n",
    "        if fname is not None:\n",
    "            matches = [(func_name,level) for (func_name,level) in self.ordered_callbacks if func_name == fname]\n",
    "            if len(matches) > 0:\n",
    "                func_name, level = matches[0]\n",
    "                data = get_prof_data(func_name)\n",
    "            else:\n",
    "                func_name = fname\n",
    "                level = 0\n",
    "                data = []\n",
    "            return (func_name, level, data)\n",
    "        res = []\n",
    "        for func_name,level in self.ordered_callbacks:\n",
    "            data = get_prof_data(func_name)\n",
    "            res.append((func_name,level,data))\n",
    "        return res\n",
    "\n",
    "    @property\n",
    "    def reset(self):\n",
    "        return self._reset\n",
    "\n",
    "    @reset.setter\n",
    "    def reset(self,v):\n",
    "        self._reset = v"
   ]
  },
  {
   "cell_type": "code",
   "execution_count": null,
   "metadata": {},
   "outputs": [],
   "source": [
    "#export        \n",
    "@patch\n",
    "def to_my_profile(self:Learner, reset=False):\n",
    "    'Add my_profile callback to learner'\n",
    "    cb = MyProfileCallback(reset=reset)\n",
    "    if not getattr(self, cb.name, None):\n",
    "        self.add_cb(cb)\n",
    "    else:\n",
    "        self.my_profile.reset = reset\n",
    "    return self"
   ]
  },
  {
   "cell_type": "markdown",
   "metadata": {},
   "source": [
    "### Example Usage"
   ]
  },
  {
   "cell_type": "code",
   "execution_count": null,
   "metadata": {},
   "outputs": [],
   "source": [
    "from fastai.vision.all import *"
   ]
  },
  {
   "cell_type": "code",
   "execution_count": null,
   "metadata": {},
   "outputs": [],
   "source": [
    "path = untar_data(URLs.MNIST_TINY)"
   ]
  },
  {
   "cell_type": "code",
   "execution_count": null,
   "metadata": {},
   "outputs": [],
   "source": [
    "Path.BASE_PATH = path"
   ]
  },
  {
   "cell_type": "code",
   "execution_count": null,
   "metadata": {},
   "outputs": [],
   "source": [
    "datablock = DataBlock(\n",
    "    blocks=(ImageBlock,CategoryBlock),\n",
    "    get_items=get_image_files,\n",
    "    get_y=parent_label,\n",
    "    splitter=GrandparentSplitter(),\n",
    "    item_tfms=Resize(28),\n",
    "    batch_tfms=[]\n",
    ")"
   ]
  },
  {
   "cell_type": "code",
   "execution_count": null,
   "metadata": {},
   "outputs": [],
   "source": [
    "dls = datablock.dataloaders(path)"
   ]
  },
  {
   "cell_type": "code",
   "execution_count": null,
   "metadata": {},
   "outputs": [],
   "source": [
    "learner = cnn_learner(dls,resnet18,metrics=accuracy)"
   ]
  },
  {
   "cell_type": "code",
   "execution_count": null,
   "metadata": {},
   "outputs": [
    {
     "data": {
      "text/html": [],
      "text/plain": [
       "<IPython.core.display.HTML object>"
      ]
     },
     "metadata": {},
     "output_type": "display_data"
    },
    {
     "data": {
      "text/plain": [
       "Sequential (Input shape: 64)\n",
       "============================================================================\n",
       "Layer (type)         Output Shape         Param #    Trainable \n",
       "============================================================================\n",
       "                     64 x 64 x 14 x 14   \n",
       "Conv2d                                    9408       False     \n",
       "BatchNorm2d                               128        True      \n",
       "ReLU                                                           \n",
       "MaxPool2d                                                      \n",
       "Conv2d                                    36864      False     \n",
       "BatchNorm2d                               128        True      \n",
       "ReLU                                                           \n",
       "Conv2d                                    36864      False     \n",
       "BatchNorm2d                               128        True      \n",
       "Conv2d                                    36864      False     \n",
       "BatchNorm2d                               128        True      \n",
       "ReLU                                                           \n",
       "Conv2d                                    36864      False     \n",
       "BatchNorm2d                               128        True      \n",
       "____________________________________________________________________________\n",
       "                     64 x 128 x 4 x 4    \n",
       "Conv2d                                    73728      False     \n",
       "BatchNorm2d                               256        True      \n",
       "ReLU                                                           \n",
       "Conv2d                                    147456     False     \n",
       "BatchNorm2d                               256        True      \n",
       "Conv2d                                    8192       False     \n",
       "BatchNorm2d                               256        True      \n",
       "Conv2d                                    147456     False     \n",
       "BatchNorm2d                               256        True      \n",
       "ReLU                                                           \n",
       "Conv2d                                    147456     False     \n",
       "BatchNorm2d                               256        True      \n",
       "____________________________________________________________________________\n",
       "                     64 x 256 x 2 x 2    \n",
       "Conv2d                                    294912     False     \n",
       "BatchNorm2d                               512        True      \n",
       "ReLU                                                           \n",
       "Conv2d                                    589824     False     \n",
       "BatchNorm2d                               512        True      \n",
       "Conv2d                                    32768      False     \n",
       "BatchNorm2d                               512        True      \n",
       "Conv2d                                    589824     False     \n",
       "BatchNorm2d                               512        True      \n",
       "ReLU                                                           \n",
       "Conv2d                                    589824     False     \n",
       "BatchNorm2d                               512        True      \n",
       "____________________________________________________________________________\n",
       "                     64 x 512 x 1 x 1    \n",
       "Conv2d                                    1179648    False     \n",
       "BatchNorm2d                               1024       True      \n",
       "ReLU                                                           \n",
       "Conv2d                                    2359296    False     \n",
       "BatchNorm2d                               1024       True      \n",
       "Conv2d                                    131072     False     \n",
       "BatchNorm2d                               1024       True      \n",
       "Conv2d                                    2359296    False     \n",
       "BatchNorm2d                               1024       True      \n",
       "ReLU                                                           \n",
       "Conv2d                                    2359296    False     \n",
       "BatchNorm2d                               1024       True      \n",
       "AdaptiveAvgPool2d                                              \n",
       "AdaptiveMaxPool2d                                              \n",
       "Flatten                                                        \n",
       "BatchNorm1d                               2048       True      \n",
       "Dropout                                                        \n",
       "____________________________________________________________________________\n",
       "                     64 x 512            \n",
       "Linear                                    524288     True      \n",
       "ReLU                                                           \n",
       "BatchNorm1d                               1024       True      \n",
       "Dropout                                                        \n",
       "____________________________________________________________________________\n",
       "                     64 x 2              \n",
       "Linear                                    1024       True      \n",
       "____________________________________________________________________________\n",
       "\n",
       "Total params: 11,704,896\n",
       "Total trainable params: 537,984\n",
       "Total non-trainable params: 11,166,912\n",
       "\n",
       "Optimizer used: <function Adam at 0x134d4d9e0>\n",
       "Loss function: FlattenedLoss of CrossEntropyLoss()\n",
       "\n",
       "Model frozen up to parameter group #2\n",
       "\n",
       "Callbacks:\n",
       "  - TrainEvalCallback\n",
       "  - Recorder\n",
       "  - ProgressCallback"
      ]
     },
     "execution_count": null,
     "metadata": {},
     "output_type": "execute_result"
    }
   ],
   "source": [
    "learner.summary()"
   ]
  },
  {
   "cell_type": "code",
   "execution_count": null,
   "metadata": {},
   "outputs": [
    {
     "data": {
      "text/plain": [
       "<fastai.learner.Learner at 0x135ecafd0>"
      ]
     },
     "execution_count": null,
     "metadata": {},
     "output_type": "execute_result"
    }
   ],
   "source": [
    "learner.to_my_profile()"
   ]
  },
  {
   "cell_type": "code",
   "execution_count": null,
   "metadata": {},
   "outputs": [
    {
     "data": {
      "text/plain": [
       "MyProfileCallback"
      ]
     },
     "execution_count": null,
     "metadata": {},
     "output_type": "execute_result"
    }
   ],
   "source": [
    "learner.my_profile"
   ]
  },
  {
   "cell_type": "code",
   "execution_count": null,
   "metadata": {},
   "outputs": [
    {
     "name": "stdout",
     "output_type": "stream",
     "text": [
      "fit has no data\n",
      "   epoch has no data\n",
      "      train has no data\n",
      "         train_batch has no data\n",
      "            train_pred has no data\n",
      "            train_loss has no data\n",
      "            train_backward has no data\n",
      "            train_step has no data\n",
      "            train_zero_grad has no data\n",
      "      valid has no data\n",
      "         valid_batch has no data\n",
      "            valid_pred has no data\n",
      "            valid_loss has no data\n"
     ]
    }
   ],
   "source": [
    "learner.my_profile.print_stats()"
   ]
  },
  {
   "cell_type": "code",
   "execution_count": null,
   "metadata": {},
   "outputs": [
    {
     "data": {
      "text/html": [
       "<table border=\"1\" class=\"dataframe\">\n",
       "  <thead>\n",
       "    <tr style=\"text-align: left;\">\n",
       "      <th>epoch</th>\n",
       "      <th>train_loss</th>\n",
       "      <th>valid_loss</th>\n",
       "      <th>accuracy</th>\n",
       "      <th>time</th>\n",
       "    </tr>\n",
       "  </thead>\n",
       "  <tbody>\n",
       "    <tr>\n",
       "      <td>0</td>\n",
       "      <td>0.693655</td>\n",
       "      <td>0.486362</td>\n",
       "      <td>0.749642</td>\n",
       "      <td>00:14</td>\n",
       "    </tr>\n",
       "  </tbody>\n",
       "</table>"
      ],
      "text/plain": [
       "<IPython.core.display.HTML object>"
      ]
     },
     "metadata": {},
     "output_type": "display_data"
    }
   ],
   "source": [
    "learner.fit(1)"
   ]
  },
  {
   "cell_type": "code",
   "execution_count": null,
   "metadata": {},
   "outputs": [
    {
     "name": "stdout",
     "output_type": "stream",
     "text": [
      "fit  called 1 times. max: 14.826 avg: 14.826\n",
      "   epoch  called 1 times. max: 14.826 avg: 14.826\n",
      "      train  called 1 times. max: 12.539 avg: 12.539\n",
      "         train_batch  called 11 times. max: 1.147 avg: 1.093\n",
      "            train_pred  called 11 times. max: 0.253 avg: 0.219\n",
      "            train_loss  called 11 times. max: 0.001 avg: 0.001\n",
      "            train_backward  called 11 times. max: 0.900 avg: 0.861\n",
      "            train_step  called 11 times. max: 0.014 avg: 0.010\n",
      "            train_zero_grad  called 11 times. max: 0.002 avg: 0.002\n",
      "      valid  called 1 times. max: 2.283 avg: 2.283\n",
      "         valid_batch  called 11 times. max: 0.203 avg: 0.181\n",
      "            valid_pred  called 11 times. max: 0.202 avg: 0.180\n",
      "            valid_loss  called 11 times. max: 0.002 avg: 0.001\n"
     ]
    }
   ],
   "source": [
    "learner.my_profile.print_stats()"
   ]
  },
  {
   "cell_type": "code",
   "execution_count": null,
   "metadata": {},
   "outputs": [
    {
     "data": {
      "text/plain": [
       "[('fit', 0, [14.826272010803223]),\n",
       " ('epoch', 1, [14.825506210327148]),\n",
       " ('train', 2, [12.53893232345581]),\n",
       " ('train_batch',\n",
       "  3,\n",
       "  [1.147028923034668,\n",
       "   1.0965969562530518,\n",
       "   1.0539379119873047,\n",
       "   1.0700407028198242,\n",
       "   1.0998239517211914,\n",
       "   1.0905580520629883,\n",
       "   1.0969460010528564,\n",
       "   1.0751848220825195,\n",
       "   1.1051452159881592,\n",
       "   1.0613350868225098,\n",
       "   1.1278557777404785]),\n",
       " ('train_pred',\n",
       "  4,\n",
       "  [0.25260400772094727,\n",
       "   0.2151319980621338,\n",
       "   0.21577811241149902,\n",
       "   0.21297788619995117,\n",
       "   0.2168900966644287,\n",
       "   0.21621465682983398,\n",
       "   0.21819210052490234,\n",
       "   0.2154397964477539,\n",
       "   0.21802592277526855,\n",
       "   0.21338295936584473,\n",
       "   0.21511292457580566]),\n",
       " ('train_loss',\n",
       "  4,\n",
       "  [0.0011301040649414062,\n",
       "   0.0007872581481933594,\n",
       "   0.000743865966796875,\n",
       "   0.0007627010345458984,\n",
       "   0.0007507801055908203,\n",
       "   0.0007741451263427734,\n",
       "   0.0007429122924804688,\n",
       "   0.0007698535919189453,\n",
       "   0.0007410049438476562,\n",
       "   0.0007848739624023438,\n",
       "   0.0007369518280029297]),\n",
       " ('train_backward',\n",
       "  4,\n",
       "  [0.8776719570159912,\n",
       "   0.8692278861999512,\n",
       "   0.8258969783782959,\n",
       "   0.8449299335479736,\n",
       "   0.8709321022033691,\n",
       "   0.862293004989624,\n",
       "   0.8666291236877441,\n",
       "   0.8475267887115479,\n",
       "   0.8750889301300049,\n",
       "   0.8348186016082764,\n",
       "   0.9004881381988525]),\n",
       " ('train_step',\n",
       "  4,\n",
       "  [0.013615131378173828,\n",
       "   0.009528875350952148,\n",
       "   0.009634017944335938,\n",
       "   0.009547948837280273,\n",
       "   0.009372234344482422,\n",
       "   0.009392976760864258,\n",
       "   0.009460210800170898,\n",
       "   0.00952601432800293,\n",
       "   0.009387016296386719,\n",
       "   0.009891986846923828,\n",
       "   0.009598970413208008]),\n",
       " ('train_zero_grad',\n",
       "  4,\n",
       "  [0.0018649101257324219,\n",
       "   0.001825094223022461,\n",
       "   0.0017778873443603516,\n",
       "   0.0017271041870117188,\n",
       "   0.0017819404602050781,\n",
       "   0.0017867088317871094,\n",
       "   0.0018239021301269531,\n",
       "   0.0018229484558105469,\n",
       "   0.0018050670623779297,\n",
       "   0.0023589134216308594,\n",
       "   0.0018210411071777344]),\n",
       " ('valid', 2, [2.282799005508423]),\n",
       " ('valid_batch',\n",
       "  3,\n",
       "  [0.20348501205444336,\n",
       "   0.1881699562072754,\n",
       "   0.1850287914276123,\n",
       "   0.1786811351776123,\n",
       "   0.1722097396850586,\n",
       "   0.17976093292236328,\n",
       "   0.1717219352722168,\n",
       "   0.17983412742614746,\n",
       "   0.18445897102355957,\n",
       "   0.17809414863586426,\n",
       "   0.16802597045898438]),\n",
       " ('valid_pred',\n",
       "  4,\n",
       "  [0.20157313346862793,\n",
       "   0.18747615814208984,\n",
       "   0.184248685836792,\n",
       "   0.17804694175720215,\n",
       "   0.17160391807556152,\n",
       "   0.1789689064025879,\n",
       "   0.171112060546875,\n",
       "   0.1790611743927002,\n",
       "   0.18384408950805664,\n",
       "   0.17748594284057617,\n",
       "   0.16724205017089844]),\n",
       " ('valid_loss',\n",
       "  4,\n",
       "  [0.0017740726470947266,\n",
       "   0.0005881786346435547,\n",
       "   0.000659942626953125,\n",
       "   0.0005400180816650391,\n",
       "   0.000514984130859375,\n",
       "   0.0006740093231201172,\n",
       "   0.0005199909210205078,\n",
       "   0.0006546974182128906,\n",
       "   0.0005199909210205078,\n",
       "   0.0005161762237548828,\n",
       "   0.0006620883941650391])]"
      ]
     },
     "execution_count": null,
     "metadata": {},
     "output_type": "execute_result"
    }
   ],
   "source": [
    "fit_stats = learner.my_profile.get_stats();fit_stats"
   ]
  },
  {
   "cell_type": "code",
   "execution_count": null,
   "metadata": {},
   "outputs": [
    {
     "name": "stdout",
     "output_type": "stream",
     "text": [
      "         train_batch  called 11 times. max: 1.147 avg: 1.093\n"
     ]
    }
   ],
   "source": [
    "learner.my_profile.print_stats('train_batch')"
   ]
  },
  {
   "cell_type": "code",
   "execution_count": null,
   "metadata": {},
   "outputs": [
    {
     "data": {
      "text/plain": [
       "('train_batch',\n",
       " 3,\n",
       " [1.147028923034668,\n",
       "  1.0965969562530518,\n",
       "  1.0539379119873047,\n",
       "  1.0700407028198242,\n",
       "  1.0998239517211914,\n",
       "  1.0905580520629883,\n",
       "  1.0969460010528564,\n",
       "  1.0751848220825195,\n",
       "  1.1051452159881592,\n",
       "  1.0613350868225098,\n",
       "  1.1278557777404785])"
      ]
     },
     "execution_count": null,
     "metadata": {},
     "output_type": "execute_result"
    }
   ],
   "source": [
    "train_batch_stats = learner.my_profile.get_stats('train_batch'); train_batch_stats"
   ]
  },
  {
   "cell_type": "code",
   "execution_count": null,
   "metadata": {},
   "outputs": [],
   "source": [
    "learner.my_profile.clear_stats()"
   ]
  },
  {
   "cell_type": "code",
   "execution_count": null,
   "metadata": {},
   "outputs": [
    {
     "name": "stdout",
     "output_type": "stream",
     "text": [
      "fit has no data\n",
      "   epoch has no data\n",
      "      train has no data\n",
      "         train_batch has no data\n",
      "            train_pred has no data\n",
      "            train_loss has no data\n",
      "            train_backward has no data\n",
      "            train_step has no data\n",
      "            train_zero_grad has no data\n",
      "      valid has no data\n",
      "         valid_batch has no data\n",
      "            valid_pred has no data\n",
      "            valid_loss has no data\n"
     ]
    }
   ],
   "source": [
    "learner.my_profile.print_stats()"
   ]
  },
  {
   "cell_type": "code",
   "execution_count": null,
   "metadata": {},
   "outputs": [
    {
     "name": "stdout",
     "output_type": "stream",
     "text": [
      "      train has no data\n"
     ]
    }
   ],
   "source": [
    "learner.my_profile.print_stats('train')"
   ]
  },
  {
   "cell_type": "code",
   "execution_count": null,
   "metadata": {},
   "outputs": [
    {
     "data": {
      "text/html": [
       "<table border=\"1\" class=\"dataframe\">\n",
       "  <thead>\n",
       "    <tr style=\"text-align: left;\">\n",
       "      <th>epoch</th>\n",
       "      <th>train_loss</th>\n",
       "      <th>valid_loss</th>\n",
       "      <th>accuracy</th>\n",
       "      <th>time</th>\n",
       "    </tr>\n",
       "  </thead>\n",
       "  <tbody>\n",
       "    <tr>\n",
       "      <td>0</td>\n",
       "      <td>0.339887</td>\n",
       "      <td>0.245247</td>\n",
       "      <td>0.908441</td>\n",
       "      <td>00:14</td>\n",
       "    </tr>\n",
       "  </tbody>\n",
       "</table>"
      ],
      "text/plain": [
       "<IPython.core.display.HTML object>"
      ]
     },
     "metadata": {},
     "output_type": "display_data"
    },
    {
     "data": {
      "text/html": [
       "<table border=\"1\" class=\"dataframe\">\n",
       "  <thead>\n",
       "    <tr style=\"text-align: left;\">\n",
       "      <th>epoch</th>\n",
       "      <th>train_loss</th>\n",
       "      <th>valid_loss</th>\n",
       "      <th>accuracy</th>\n",
       "      <th>time</th>\n",
       "    </tr>\n",
       "  </thead>\n",
       "  <tbody>\n",
       "    <tr>\n",
       "      <td>0</td>\n",
       "      <td>0.273823</td>\n",
       "      <td>0.196766</td>\n",
       "      <td>0.919886</td>\n",
       "      <td>00:21</td>\n",
       "    </tr>\n",
       "  </tbody>\n",
       "</table>"
      ],
      "text/plain": [
       "<IPython.core.display.HTML object>"
      ]
     },
     "metadata": {},
     "output_type": "display_data"
    }
   ],
   "source": [
    "learner.fine_tune(1)"
   ]
  },
  {
   "cell_type": "code",
   "execution_count": null,
   "metadata": {},
   "outputs": [
    {
     "name": "stdout",
     "output_type": "stream",
     "text": [
      "fit  called 2 times. max: 21.981 avg: 18.306\n",
      "   epoch  called 2 times. max: 21.980 avg: 18.305\n",
      "      train  called 2 times. max: 19.679 avg: 15.999\n",
      "         train_batch  called 22 times. max: 2.007 avg: 1.426\n",
      "            train_pred  called 22 times. max: 0.259 avg: 0.219\n",
      "            train_loss  called 22 times. max: 0.001 avg: 0.001\n",
      "            train_backward  called 22 times. max: 1.592 avg: 1.150\n",
      "            train_step  called 22 times. max: 0.148 avg: 0.051\n",
      "            train_zero_grad  called 22 times. max: 0.007 avg: 0.004\n",
      "      valid  called 2 times. max: 2.306 avg: 2.301\n",
      "         valid_batch  called 22 times. max: 0.211 avg: 0.182\n",
      "            valid_pred  called 22 times. max: 0.209 avg: 0.181\n",
      "            valid_loss  called 22 times. max: 0.002 avg: 0.001\n"
     ]
    }
   ],
   "source": [
    "learner.my_profile.print_stats()"
   ]
  },
  {
   "cell_type": "code",
   "execution_count": null,
   "metadata": {},
   "outputs": [],
   "source": [
    "learner.my_profile.reset = True"
   ]
  },
  {
   "cell_type": "code",
   "execution_count": null,
   "metadata": {},
   "outputs": [
    {
     "data": {
      "text/html": [
       "<table border=\"1\" class=\"dataframe\">\n",
       "  <thead>\n",
       "    <tr style=\"text-align: left;\">\n",
       "      <th>epoch</th>\n",
       "      <th>train_loss</th>\n",
       "      <th>valid_loss</th>\n",
       "      <th>accuracy</th>\n",
       "      <th>time</th>\n",
       "    </tr>\n",
       "  </thead>\n",
       "  <tbody>\n",
       "    <tr>\n",
       "      <td>0</td>\n",
       "      <td>0.160970</td>\n",
       "      <td>0.161350</td>\n",
       "      <td>0.944206</td>\n",
       "      <td>00:15</td>\n",
       "    </tr>\n",
       "  </tbody>\n",
       "</table>"
      ],
      "text/plain": [
       "<IPython.core.display.HTML object>"
      ]
     },
     "metadata": {},
     "output_type": "display_data"
    },
    {
     "data": {
      "text/html": [
       "<table border=\"1\" class=\"dataframe\">\n",
       "  <thead>\n",
       "    <tr style=\"text-align: left;\">\n",
       "      <th>epoch</th>\n",
       "      <th>train_loss</th>\n",
       "      <th>valid_loss</th>\n",
       "      <th>accuracy</th>\n",
       "      <th>time</th>\n",
       "    </tr>\n",
       "  </thead>\n",
       "  <tbody>\n",
       "    <tr>\n",
       "      <td>0</td>\n",
       "      <td>0.120808</td>\n",
       "      <td>0.129148</td>\n",
       "      <td>0.958512</td>\n",
       "      <td>00:23</td>\n",
       "    </tr>\n",
       "  </tbody>\n",
       "</table>"
      ],
      "text/plain": [
       "<IPython.core.display.HTML object>"
      ]
     },
     "metadata": {},
     "output_type": "display_data"
    }
   ],
   "source": [
    "learner.fine_tune(1)"
   ]
  },
  {
   "cell_type": "code",
   "execution_count": null,
   "metadata": {},
   "outputs": [
    {
     "name": "stdout",
     "output_type": "stream",
     "text": [
      "fit  called 1 times. max: 23.155 avg: 23.155\n",
      "   epoch  called 1 times. max: 23.154 avg: 23.154\n",
      "      train  called 1 times. max: 20.823 avg: 20.823\n",
      "         train_batch  called 11 times. max: 1.939 avg: 1.864\n",
      "            train_pred  called 11 times. max: 0.247 avg: 0.216\n",
      "            train_loss  called 11 times. max: 0.001 avg: 0.001\n",
      "            train_backward  called 11 times. max: 1.590 avg: 1.546\n",
      "            train_step  called 11 times. max: 0.147 avg: 0.093\n",
      "            train_zero_grad  called 11 times. max: 0.008 avg: 0.007\n",
      "      valid  called 1 times. max: 2.326 avg: 2.326\n",
      "         valid_batch  called 11 times. max: 0.214 avg: 0.183\n",
      "            valid_pred  called 11 times. max: 0.212 avg: 0.182\n",
      "            valid_loss  called 11 times. max: 0.002 avg: 0.001\n"
     ]
    }
   ],
   "source": [
    "learner.my_profile.print_stats()"
   ]
  },
  {
   "cell_type": "code",
   "execution_count": null,
   "metadata": {},
   "outputs": [],
   "source": [
    "learner.my_profile.reset"
   ]
  }
 ],
 "metadata": {
  "kernelspec": {
   "display_name": "Python 3",
   "language": "python",
   "name": "python3"
  }
 },
 "nbformat": 4,
 "nbformat_minor": 2
}
