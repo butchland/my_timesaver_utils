{
 "cells": [
  {
   "cell_type": "code",
   "execution_count": null,
   "metadata": {},
   "outputs": [],
   "source": [
    "# default_exp profiling"
   ]
  },
  {
   "cell_type": "markdown",
   "metadata": {},
   "source": [
    "# Profiling\n",
    "\n",
    "> some profiling utils I want to keep reusing\n",
    "> based on [some code I found and enhanced from stackoverflow](https://stackoverflow.com/questions/3620943/measuring-elapsed-time-with-the-time-module)"
   ]
  },
  {
   "cell_type": "code",
   "execution_count": null,
   "metadata": {},
   "outputs": [],
   "source": [
    "#hide\n",
    "#local\n",
    "%reload_ext autoreload\n",
    "%autoreload 2\n",
    "%matplotlib inline"
   ]
  },
  {
   "cell_type": "code",
   "execution_count": null,
   "metadata": {},
   "outputs": [],
   "source": [
    "#hide\n",
    "#local\n",
    "from nbdev.showdoc import *"
   ]
  },
  {
   "cell_type": "code",
   "execution_count": null,
   "metadata": {},
   "outputs": [],
   "source": [
    "#exporti\n",
    "import time\n",
    "import warnings\n",
    "from functools import wraps\n",
    "\n",
    "PROF_DATA = {}"
   ]
  },
  {
   "cell_type": "code",
   "execution_count": null,
   "metadata": {},
   "outputs": [],
   "source": [
    "# #export\n",
    "# def profile_call(fn):\n",
    "#     'decorator to profile a method - stores data in PROF_DATA'\n",
    "#     @wraps(fn)\n",
    "#     def with_profiling(*args, **kwargs):\n",
    "#         start_time = time.time()\n",
    "#         ret = fn(*args, **kwargs)\n",
    "#         elapsed_time = time.time() - start_time\n",
    "\n",
    "#         if fn.__name__ not in PROF_DATA:\n",
    "#             PROF_DATA[fn.__name__] = [0, [],0]\n",
    "#         PROF_DATA[fn.__name__][0] += 1\n",
    "#         PROF_DATA[fn.__name__][1].append(elapsed_time)\n",
    "\n",
    "#         return ret\n",
    "\n",
    "#     return with_profiling"
   ]
  },
  {
   "cell_type": "code",
   "execution_count": null,
   "metadata": {},
   "outputs": [],
   "source": [
    "#exporti\n",
    "def _logtime(fn,new_name, args, kwargs):\n",
    "    # use func name as key if new_name is None else use new_name\n",
    "    fname = fn.__name__ if new_name is None else new_name\n",
    "    start_time = time.time()\n",
    "    ret = fn(*args, **kwargs)\n",
    "    elapsed_time = time.time() - start_time\n",
    "    if fname not in PROF_DATA:\n",
    "        PROF_DATA[fname] = [0, [],0]\n",
    "    PROF_DATA[fname][0] += 1\n",
    "    PROF_DATA[fname][1].append(elapsed_time)\n",
    "    return ret\n"
   ]
  },
  {
   "cell_type": "code",
   "execution_count": null,
   "metadata": {},
   "outputs": [],
   "source": [
    "#export\n",
    "def profile_call(decorator_arg, fn_name=None):\n",
    "    'decorator to profile a method with an optional name - stores data in PROF DATA'\n",
    "#     print(f'arg is {decorator_arg} type {type(decorator_arg)} fn_name {fn_name}')\n",
    "    if type(decorator_arg) == str:\n",
    "        def _inner_profile_call(fn):\n",
    "            @wraps(fn)\n",
    "            def with_profiling(*args, **kwargs):\n",
    "                return _logtime(fn,decorator_arg, args,kwargs)\n",
    "            return with_profiling\n",
    "        return _inner_profile_call\n",
    "    \n",
    "    # else decorator_arg is function\n",
    "    fn = decorator_arg\n",
    "    @wraps(fn)\n",
    "    def with_profiling(*args, **kwargs):\n",
    "        return _logtime(fn, fn_name, args, kwargs)\n",
    "\n",
    "    return with_profiling    "
   ]
  },
  {
   "cell_type": "code",
   "execution_count": null,
   "metadata": {},
   "outputs": [],
   "source": [
    "#exporti\n",
    "def _print_data(fname, data):\n",
    "    max_time = max(data[1])\n",
    "    avg_time = sum(data[1]) / len(data[1])\n",
    "    print(f'Function {fname} called {data[0]} times.')\n",
    "    print(f'Execution time max: {max_time:.3f}, average: {avg_time:.3f}')"
   ]
  },
  {
   "cell_type": "code",
   "execution_count": null,
   "metadata": {},
   "outputs": [],
   "source": [
    "#export\n",
    "def print_prof_data(fname=None):\n",
    "    'print out profile data'\n",
    "    if fname is not None:\n",
    "        if fname not in PROF_DATA:\n",
    "            warnings.warn(f'Function {fname} has no profile data')\n",
    "            return\n",
    "        _print_data(fname, PROF_DATA[fname])\n",
    "        return\n",
    "    \n",
    "    for fname, data in PROF_DATA.items():\n",
    "        _print_data(fname, data)"
   ]
  },
  {
   "cell_type": "code",
   "execution_count": null,
   "metadata": {},
   "outputs": [],
   "source": [
    "#export\n",
    "def clear_prof_data():\n",
    "    'clear out profile data'\n",
    "    global PROF_DATA\n",
    "    PROF_DATA = {}"
   ]
  },
  {
   "cell_type": "code",
   "execution_count": null,
   "metadata": {},
   "outputs": [],
   "source": [
    "#export    \n",
    "def get_prof_data(name):\n",
    "    'get profile data for name'\n",
    "    return None if name not in PROF_DATA else PROF_DATA[name][1]"
   ]
  },
  {
   "cell_type": "code",
   "execution_count": null,
   "metadata": {},
   "outputs": [],
   "source": [
    "#export\n",
    "def start_record(name):\n",
    "    'start recording time for name'\n",
    "    start_time = time.time()\n",
    "    if name not in PROF_DATA:\n",
    "        PROF_DATA[name] = [0, [],0]\n",
    "    if PROF_DATA[name][2] != 0:\n",
    "        warnings.warn(f'function {name} start time not recorded because start time has already been recorded')\n",
    "        return\n",
    "    PROF_DATA[name][2] = start_time"
   ]
  },
  {
   "cell_type": "code",
   "execution_count": null,
   "metadata": {},
   "outputs": [],
   "source": [
    "#export\n",
    "def end_record(name):\n",
    "    'end recording time and add elapsed time to profile data'\n",
    "    if name not in PROF_DATA:\n",
    "        warnings.warn(f'function {name} end time not recorded because start time not found')\n",
    "        return\n",
    "    start_time = PROF_DATA[name][2]\n",
    "    elapsed_time = time.time() - start_time\n",
    "    PROF_DATA[name][2] = 0\n",
    "    PROF_DATA[name][0] += 1\n",
    "    PROF_DATA[name][1].append(elapsed_time)\n",
    "    "
   ]
  },
  {
   "cell_type": "code",
   "execution_count": null,
   "metadata": {},
   "outputs": [],
   "source": [
    "#export\n",
    "import pickle\n",
    "import pathlib\n",
    "\n",
    "def save_prof_data(file_name, overwrite_file=True):\n",
    "    'save profile data to `file_name`, `overwrite_file=True` overwrites existing file'\n",
    "    if not isinstance(file_name, pathlib.Path):\n",
    "        file_name = pathlib.Path(file_name)\n",
    "        \n",
    "    if file_name.is_dir():\n",
    "        warnings.warn(f'File not saved, {filename} is an existing directory')\n",
    "        return\n",
    "    \n",
    "    if not overwrite_file and file_name.is_file():\n",
    "        warnings.warn(f'File not saved, {filename} already exists')\n",
    "        return\n",
    "    \n",
    "    with open(file_name,'wb') as f:\n",
    "        try:\n",
    "            pickle.dump(PROF_DATA,f)\n",
    "        except pickle.PickeError as e:\n",
    "            warnings.warn(f'Error in saving {file_name}, exception triggered {e}')\n",
    "    f.close()\n",
    " "
   ]
  },
  {
   "cell_type": "code",
   "execution_count": null,
   "metadata": {},
   "outputs": [],
   "source": [
    "#export\n",
    "def load_prof_data(file_name, overwrite_prof_data=True):\n",
    "    'load profile data from `file_name`, `overwrite_prof_data` overwrites existing profile data'\n",
    "    if not isinstance(file_name, pathlib.Path):\n",
    "        file_name = pathlib.Path(file_name)\n",
    "    if file_name.is_dir():\n",
    "        warnings.warn(f'File {filename} is a directory, not a file')\n",
    "        return\n",
    "    \n",
    "    if not file_name.is_file():\n",
    "        warnings.warn(f'File {filename} does not exist')\n",
    "        return\n",
    "    \n",
    "    with open(file_name, 'rb') as f:\n",
    "        try:\n",
    "            file_prof_data = pickle.load(f)\n",
    "        except pickle.PickleError as e:\n",
    "            warnings.warn(f'Unpickling {file_name} triggered an exception {e}')\n",
    "            return\n",
    "        for k,v in file_prof_data.items():\n",
    "            if k not in PROF_DATA or overwrite_prof_data:\n",
    "                PROF_DATA[k] = file_prof_data[k]"
   ]
  },
  {
   "cell_type": "markdown",
   "metadata": {},
   "source": [
    "### Usage Examples"
   ]
  },
  {
   "cell_type": "code",
   "execution_count": null,
   "metadata": {},
   "outputs": [
    {
     "name": "stdout",
     "output_type": "stream",
     "text": [
      "Function test_func called 10 times.\n",
      "Execution time max: 1.005, average: 1.002\n"
     ]
    }
   ],
   "source": [
    "@profile_call\n",
    "def test_func(t=2.0):\n",
    "    time.sleep(1.0)\n",
    "\n",
    "for i in range(10):\n",
    "    test_func(i)\n",
    "\n",
    "print_prof_data()"
   ]
  },
  {
   "cell_type": "code",
   "execution_count": null,
   "metadata": {},
   "outputs": [
    {
     "data": {
      "text/plain": [
       "[1.000493049621582,\n",
       " 1.0050342082977295,\n",
       " 1.0043659210205078,\n",
       " 1.0013041496276855,\n",
       " 1.0002999305725098,\n",
       " 1.000586986541748,\n",
       " 1.000143051147461,\n",
       " 1.0002641677856445,\n",
       " 1.0027070045471191,\n",
       " 1.0002517700195312]"
      ]
     },
     "execution_count": null,
     "metadata": {},
     "output_type": "execute_result"
    }
   ],
   "source": [
    "times = get_prof_data('test_func'); times"
   ]
  },
  {
   "cell_type": "code",
   "execution_count": null,
   "metadata": {},
   "outputs": [
    {
     "data": {
      "text/plain": [
       "{'test_func': [10,\n",
       "  [1.000493049621582,\n",
       "   1.0050342082977295,\n",
       "   1.0043659210205078,\n",
       "   1.0013041496276855,\n",
       "   1.0002999305725098,\n",
       "   1.000586986541748,\n",
       "   1.000143051147461,\n",
       "   1.0002641677856445,\n",
       "   1.0027070045471191,\n",
       "   1.0002517700195312],\n",
       "  0]}"
      ]
     },
     "execution_count": null,
     "metadata": {},
     "output_type": "execute_result"
    }
   ],
   "source": [
    "PROF_DATA"
   ]
  },
  {
   "cell_type": "code",
   "execution_count": null,
   "metadata": {},
   "outputs": [],
   "source": [
    "clear_prof_data()"
   ]
  },
  {
   "cell_type": "code",
   "execution_count": null,
   "metadata": {},
   "outputs": [],
   "source": [
    "@profile_call('wachacha')\n",
    "def test_func2(t=1.0):\n",
    "    time.sleep(t)"
   ]
  },
  {
   "cell_type": "code",
   "execution_count": null,
   "metadata": {},
   "outputs": [
    {
     "name": "stdout",
     "output_type": "stream",
     "text": [
      "Function wachacha called 10 times.\n",
      "Execution time max: 1.004, average: 1.001\n"
     ]
    }
   ],
   "source": [
    "for i in range(10):\n",
    "    test_func2()\n",
    "    \n",
    "print_prof_data()"
   ]
  },
  {
   "cell_type": "code",
   "execution_count": null,
   "metadata": {},
   "outputs": [],
   "source": [
    "clear_prof_data()"
   ]
  },
  {
   "cell_type": "code",
   "execution_count": null,
   "metadata": {},
   "outputs": [],
   "source": [
    "@profile_call\n",
    "def test_func3(t=1.0):\n",
    "    time.sleep(1.0)"
   ]
  },
  {
   "cell_type": "code",
   "execution_count": null,
   "metadata": {},
   "outputs": [
    {
     "name": "stdout",
     "output_type": "stream",
     "text": [
      "Function test_func3 called 10 times.\n",
      "Execution time max: 1.005, average: 1.002\n"
     ]
    }
   ],
   "source": [
    "for i in range(10):\n",
    "    test_func3()\n",
    "    \n",
    "print_prof_data()"
   ]
  },
  {
   "cell_type": "code",
   "execution_count": null,
   "metadata": {},
   "outputs": [],
   "source": [
    "for i in range(10):\n",
    "    start_record('timed_sleep')\n",
    "    time.sleep(i)\n",
    "    end_record('timed_sleep')"
   ]
  },
  {
   "cell_type": "code",
   "execution_count": null,
   "metadata": {},
   "outputs": [
    {
     "name": "stdout",
     "output_type": "stream",
     "text": [
      "Function timed_sleep called 10 times.\n",
      "Execution time max: 9.002, average: 4.501\n"
     ]
    }
   ],
   "source": [
    "print_prof_data('timed_sleep')\n",
    "times2 = get_prof_data('timed_sleep')"
   ]
  },
  {
   "cell_type": "markdown",
   "metadata": {},
   "source": [
    "As an alternative, the decorator can be invoked this way"
   ]
  },
  {
   "cell_type": "code",
   "execution_count": null,
   "metadata": {},
   "outputs": [],
   "source": [
    "sleep = profile_call(time.sleep)"
   ]
  },
  {
   "cell_type": "code",
   "execution_count": null,
   "metadata": {},
   "outputs": [
    {
     "name": "stdout",
     "output_type": "stream",
     "text": [
      "Function test_func3 called 10 times.\n",
      "Execution time max: 1.005, average: 1.002\n",
      "Function timed_sleep called 10 times.\n",
      "Execution time max: 9.002, average: 4.501\n",
      "Function sleep called 5 times.\n",
      "Execution time max: 4.001, average: 2.002\n"
     ]
    }
   ],
   "source": [
    "for i in range(5):\n",
    "    sleep(i)\n",
    "\n",
    "print_prof_data()"
   ]
  },
  {
   "cell_type": "code",
   "execution_count": null,
   "metadata": {},
   "outputs": [],
   "source": [
    "clear_prof_data()"
   ]
  },
  {
   "cell_type": "code",
   "execution_count": null,
   "metadata": {},
   "outputs": [],
   "source": [
    "sleep = profile_call(time.sleep,'malumam')"
   ]
  },
  {
   "cell_type": "code",
   "execution_count": null,
   "metadata": {},
   "outputs": [
    {
     "name": "stdout",
     "output_type": "stream",
     "text": [
      "Function malumam called 5 times.\n",
      "Execution time max: 1.003, average: 1.001\n"
     ]
    }
   ],
   "source": [
    "for i in range(5):\n",
    "    sleep(1)\n",
    "\n",
    "print_prof_data()"
   ]
  },
  {
   "cell_type": "code",
   "execution_count": null,
   "metadata": {},
   "outputs": [],
   "source": [
    "#local\n",
    "import pathlib"
   ]
  },
  {
   "cell_type": "code",
   "execution_count": null,
   "metadata": {},
   "outputs": [],
   "source": [
    "save_file = 'my_profile_data.pickle'"
   ]
  },
  {
   "cell_type": "code",
   "execution_count": null,
   "metadata": {},
   "outputs": [],
   "source": [
    "#local\n",
    "if pathlib.Path(save_file).is_file(): pathlib.Path(save_file).unlink()"
   ]
  },
  {
   "cell_type": "code",
   "execution_count": null,
   "metadata": {},
   "outputs": [],
   "source": [
    "save_prof_data(save_file)"
   ]
  },
  {
   "cell_type": "markdown",
   "metadata": {},
   "source": [
    "Assert that `my_profile_data.pickle` file was created."
   ]
  },
  {
   "cell_type": "code",
   "execution_count": null,
   "metadata": {},
   "outputs": [],
   "source": [
    "#local\n",
    "assert pathlib.Path(save_file).is_file()"
   ]
  },
  {
   "cell_type": "code",
   "execution_count": null,
   "metadata": {},
   "outputs": [],
   "source": [
    "clear_prof_data()"
   ]
  },
  {
   "cell_type": "code",
   "execution_count": null,
   "metadata": {},
   "outputs": [],
   "source": [
    "print_prof_data()"
   ]
  },
  {
   "cell_type": "code",
   "execution_count": null,
   "metadata": {},
   "outputs": [
    {
     "data": {
      "text/plain": [
       "{}"
      ]
     },
     "execution_count": null,
     "metadata": {},
     "output_type": "execute_result"
    }
   ],
   "source": [
    "PROF_DATA"
   ]
  },
  {
   "cell_type": "code",
   "execution_count": null,
   "metadata": {},
   "outputs": [],
   "source": [
    "load_prof_data(save_file)"
   ]
  },
  {
   "cell_type": "code",
   "execution_count": null,
   "metadata": {},
   "outputs": [
    {
     "name": "stdout",
     "output_type": "stream",
     "text": [
      "Function malumam called 5 times.\n",
      "Execution time max: 1.003, average: 1.001\n"
     ]
    }
   ],
   "source": [
    "print_prof_data()"
   ]
  },
  {
   "cell_type": "code",
   "execution_count": null,
   "metadata": {},
   "outputs": [],
   "source": [
    "#local\n",
    "pathlib.Path(save_file).unlink()"
   ]
  },
  {
   "cell_type": "code",
   "execution_count": null,
   "metadata": {},
   "outputs": [],
   "source": [
    "#local\n",
    "import matplotlib.pyplot as plt"
   ]
  },
  {
   "cell_type": "code",
   "execution_count": null,
   "metadata": {},
   "outputs": [
    {
     "data": {
      "image/png": "[encoded data removed]",
      "text/plain": [
       "<Figure size 432x288 with 1 Axes>"
      ]
     },
     "metadata": {
      "needs_background": "light"
     },
     "output_type": "display_data"
    }
   ],
   "source": [
    "#local\n",
    "plt.plot(times);"
   ]
  },
  {
   "cell_type": "code",
   "execution_count": null,
   "metadata": {},
   "outputs": [
    {
     "data": {
      "image/png": "[encoded data removed]",
      "text/plain": [
       "<Figure size 432x288 with 1 Axes>"
      ]
     },
     "metadata": {
      "needs_background": "light"
     },
     "output_type": "display_data"
    }
   ],
   "source": [
    "#local\n",
    "plt.plot(times2);"
   ]
  }
 ],
 "metadata": {
  "kernelspec": {
   "display_name": "Python 3",
   "language": "python",
   "name": "python3"
  }
 },
 "nbformat": 4,
 "nbformat_minor": 2
}
