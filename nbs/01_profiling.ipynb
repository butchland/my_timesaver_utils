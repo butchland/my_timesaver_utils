{
 "cells": [
  {
   "cell_type": "code",
   "execution_count": null,
   "metadata": {},
   "outputs": [],
   "source": [
    "# default_exp profiling"
   ]
  },
  {
   "cell_type": "markdown",
   "metadata": {},
   "source": [
    "# Profiling\n",
    "\n",
    "> some utils I want to keep reusing"
   ]
  },
  {
   "cell_type": "code",
   "execution_count": null,
   "metadata": {},
   "outputs": [],
   "source": [
    "#hide\n",
    "%reload_ext autoreload\n",
    "%autoreload 2\n",
    "%matplotlib inline"
   ]
  },
  {
   "cell_type": "code",
   "execution_count": null,
   "metadata": {},
   "outputs": [],
   "source": [
    "#local\n",
    "#hide\n",
    "from nbdev.showdoc import *"
   ]
  },
  {
   "cell_type": "code",
   "execution_count": null,
   "metadata": {},
   "outputs": [],
   "source": [
    "#exporti\n",
    "import time\n",
    "import warnings\n",
    "from functools import wraps\n",
    "\n",
    "PROF_DATA = {}"
   ]
  },
  {
   "cell_type": "code",
   "execution_count": null,
   "metadata": {},
   "outputs": [],
   "source": [
    "#export\n",
    "def profile_call(fn):\n",
    "    'decorator to profile a method - stores data in PROF_DATA'\n",
    "    @wraps(fn)\n",
    "    def with_profiling(*args, **kwargs):\n",
    "        start_time = time.time()\n",
    "        ret = fn(*args, **kwargs)\n",
    "        elapsed_time = time.time() - start_time\n",
    "\n",
    "        if fn.__name__ not in PROF_DATA:\n",
    "            PROF_DATA[fn.__name__] = [0, [],0]\n",
    "        PROF_DATA[fn.__name__][0] += 1\n",
    "        PROF_DATA[fn.__name__][1].append(elapsed_time)\n",
    "\n",
    "        return ret\n",
    "\n",
    "    return with_profiling\n",
    "\n",
    "def _print_data(fname, data):\n",
    "    max_time = max(data[1])\n",
    "    avg_time = sum(data[1]) / len(data[1])\n",
    "    print(f'Function {fname} called {data[0]} times.')\n",
    "    print(f'Execution time max: {max_time:.3f}, average: {avg_time:.3f}')\n",
    "\n",
    "def print_prof_data(fname=None):\n",
    "    'print out profile data'\n",
    "    if fname is not None:\n",
    "        if fname not in PROF_DATA:\n",
    "            warnings.warn(f'Function {fname} has no profile data')\n",
    "            return\n",
    "        _print_data(fname, PROF_DATA[fname])\n",
    "        return\n",
    "    \n",
    "    for fname, data in PROF_DATA.items():\n",
    "        _print_data(fname, data)\n",
    "\n",
    "def clear_prof_data():\n",
    "    'clear out profile data'\n",
    "    global PROF_DATA\n",
    "    PROF_DATA = {}\n",
    "    \n",
    "def get_prof_data(name):\n",
    "    'get profile data for name'\n",
    "    return None if name not in PROF_DATA else PROF_DATA[name][1]"
   ]
  },
  {
   "cell_type": "code",
   "execution_count": null,
   "metadata": {},
   "outputs": [],
   "source": [
    "#export\n",
    "def start_record(name):\n",
    "    'start recording time for name'\n",
    "    start_time = time.time()\n",
    "    if name not in PROF_DATA:\n",
    "        PROF_DATA[name] = [0, [],0]\n",
    "    if PROF_DATA[name][2] != 0:\n",
    "        warnings.warn(f'function {name} start time not recorded because start time has already been recorded')\n",
    "        return\n",
    "    PROF_DATA[name][2] = start_time\n",
    "\n",
    "def end_record(name):\n",
    "    'end recording time and add elapsed time to profile data'\n",
    "    if name not in PROF_DATA:\n",
    "        warnings.warn(f'function {name} end time not recorded because start time not found')\n",
    "        return\n",
    "    start_time = PROF_DATA[name][2]\n",
    "    elapsed_time = time.time() - start_time\n",
    "    PROF_DATA[name][2] = 0\n",
    "    PROF_DATA[name][0] += 1\n",
    "    PROF_DATA[name][1].append(elapsed_time)\n",
    "    \n"
   ]
  },
  {
   "cell_type": "code",
   "execution_count": null,
   "metadata": {},
   "outputs": [
    {
     "name": "stdout",
     "output_type": "stream",
     "text": [
      "Function test_func called 10 times.\n",
      "Execution time max: 9.003, average: 4.503\n"
     ]
    }
   ],
   "source": [
    "@profile_call\n",
    "def test_func(t=2.0):\n",
    "    time.sleep(t)\n",
    "\n",
    "for i in range(10):\n",
    "    test_func(i)\n",
    "\n",
    "print_prof_data()"
   ]
  },
  {
   "cell_type": "code",
   "execution_count": null,
   "metadata": {},
   "outputs": [
    {
     "data": {
      "text/plain": [
       "[8.106231689453125e-06,\n",
       " 1.0042071342468262,\n",
       " 2.005037784576416,\n",
       " 3.0050208568573,\n",
       " 4.001191139221191,\n",
       " 5.004995107650757,\n",
       " 6.00493311882019,\n",
       " 7.002206087112427,\n",
       " 7.999983072280884,\n",
       " 9.00339674949646]"
      ]
     },
     "execution_count": null,
     "metadata": {},
     "output_type": "execute_result"
    }
   ],
   "source": [
    "times = get_prof_data('test_func'); times"
   ]
  },
  {
   "cell_type": "code",
   "execution_count": null,
   "metadata": {},
   "outputs": [
    {
     "data": {
      "text/plain": [
       "{'test_func': [10,\n",
       "  [8.106231689453125e-06,\n",
       "   1.0042071342468262,\n",
       "   2.005037784576416,\n",
       "   3.0050208568573,\n",
       "   4.001191139221191,\n",
       "   5.004995107650757,\n",
       "   6.00493311882019,\n",
       "   7.002206087112427,\n",
       "   7.999983072280884,\n",
       "   9.00339674949646],\n",
       "  0]}"
      ]
     },
     "execution_count": null,
     "metadata": {},
     "output_type": "execute_result"
    }
   ],
   "source": [
    "PROF_DATA"
   ]
  },
  {
   "cell_type": "code",
   "execution_count": null,
   "metadata": {},
   "outputs": [],
   "source": [
    "for i in range(10):\n",
    "    start_record('sleep')\n",
    "    time.sleep(i)\n",
    "    end_record('sleep')"
   ]
  },
  {
   "cell_type": "code",
   "execution_count": null,
   "metadata": {},
   "outputs": [
    {
     "name": "stdout",
     "output_type": "stream",
     "text": [
      "Function sleep called 10 times.\n",
      "Execution time max: 9.004, average: 4.502\n"
     ]
    }
   ],
   "source": [
    "print_prof_data('sleep')\n",
    "times2 = get_prof_data('sleep')"
   ]
  },
  {
   "cell_type": "code",
   "execution_count": null,
   "metadata": {},
   "outputs": [],
   "source": [
    "clear_prof_data()"
   ]
  },
  {
   "cell_type": "code",
   "execution_count": null,
   "metadata": {},
   "outputs": [
    {
     "data": {
      "text/plain": [
       "{}"
      ]
     },
     "execution_count": null,
     "metadata": {},
     "output_type": "execute_result"
    }
   ],
   "source": [
    "PROF_DATA"
   ]
  },
  {
   "cell_type": "code",
   "execution_count": null,
   "metadata": {},
   "outputs": [],
   "source": [
    "#local\n",
    "import matplotlib.pyplot as plt"
   ]
  },
  {
   "cell_type": "code",
   "execution_count": null,
   "metadata": {},
   "outputs": [
    {
     "data": {
      "image/png": "[encoded data removed]",
      "text/plain": [
       "<Figure size 432x288 with 1 Axes>"
      ]
     },
     "metadata": {
      "needs_background": "light"
     },
     "output_type": "display_data"
    }
   ],
   "source": [
    "#local\n",
    "plt.plot(times);"
   ]
  },
  {
   "cell_type": "code",
   "execution_count": null,
   "metadata": {},
   "outputs": [
    {
     "data": {
      "image/png": "[encoded data removed]",
      "text/plain": [
       "<Figure size 432x288 with 1 Axes>"
      ]
     },
     "metadata": {
      "needs_background": "light"
     },
     "output_type": "display_data"
    }
   ],
   "source": [
    "#local\n",
    "plt.plot(times2);"
   ]
  }
 ],
 "metadata": {
  "kernelspec": {
   "display_name": "Python 3",
   "language": "python",
   "name": "python3"
  }
 },
 "nbformat": 4,
 "nbformat_minor": 2
}
